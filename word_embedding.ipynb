{
 "cells": [
  {
   "cell_type": "markdown",
   "id": "headed-reporter",
   "metadata": {},
   "source": [
    "<img width=\"319\" alt=\"텐서3\" src=\"https://user-images.githubusercontent.com/74411831/115780666-63fffa80-a3f4-11eb-8db4-f53c5d877400.png\">"
   ]
  },
  {
   "cell_type": "markdown",
   "id": "caroline-musician",
   "metadata": {},
   "source": [
    "One-hot encoding : index에 1, 나머지 0 (희소행렬)\n",
    "\n",
    "+ 차원이 큼(자원낭비가 심함, 차원 = word수)\n",
    "+ 유사도를 표현할 수 없음"
   ]
  },
  {
   "cell_type": "markdown",
   "id": "matched-stretch",
   "metadata": {},
   "source": [
    "<img width=\"319\" alt=\"텐서4\" src=\"https://user-images.githubusercontent.com/74411831/115780668-65312780-a3f4-11eb-8223-0c46363e0b1f.png\">"
   ]
  },
  {
   "cell_type": "markdown",
   "id": "stupid-absorption",
   "metadata": {},
   "source": [
    "![텐서2](https://user-images.githubusercontent.com/74411831/115780661-62cecd80-a3f4-11eb-9b87-7965ffc79e6d.png)"
   ]
  },
  {
   "cell_type": "code",
   "execution_count": 1,
   "id": "natural-error",
   "metadata": {},
   "outputs": [],
   "source": [
    "import io\n",
    "import os\n",
    "import re\n",
    "import shutil\n",
    "import string\n",
    "import tensorflow as tf\n",
    "\n",
    "from tensorflow.keras import Sequential\n",
    "from tensorflow.keras.layers import Dense, Embedding, GlobalAveragePooling1D\n",
    "from tensorflow.keras.layers.experimental.preprocessing import TextVectorization"
   ]
  },
  {
   "cell_type": "markdown",
   "id": "received-belfast",
   "metadata": {},
   "source": [
    "![텐서1](https://user-images.githubusercontent.com/74411831/115780651-5fd3dd00-a3f4-11eb-9f2a-cbf251ebe574.png)"
   ]
  },
  {
   "cell_type": "code",
   "execution_count": 2,
   "id": "indoor-bidding",
   "metadata": {},
   "outputs": [
    {
     "name": "stdout",
     "output_type": "stream",
     "text": [
      "Downloading data from https://ai.stanford.edu/~amaas/data/sentiment/aclImdb_v1.tar.gz\n",
      "84131840/84125825 [==============================] - 3080s 37us/step\n"
     ]
    },
    {
     "data": {
      "text/plain": [
       "['imdb.vocab', 'imdbEr.txt', 'README', 'test', 'train']"
      ]
     },
     "execution_count": 2,
     "metadata": {},
     "output_type": "execute_result"
    }
   ],
   "source": [
    "url = \"https://ai.stanford.edu/~amaas/data/sentiment/aclImdb_v1.tar.gz\"\n",
    "\n",
    "dataset = tf.keras.utils.get_file(\"aclImdb_v1.tar.gz\", url,\n",
    "                                  untar=True, cache_dir='.',\n",
    "                                  cache_subdir='')\n",
    "\n",
    "dataset_dir = os.path.join(os.path.dirname(dataset), 'aclImdb')\n",
    "os.listdir(dataset_dir)"
   ]
  },
  {
   "cell_type": "code",
   "execution_count": 3,
   "id": "compact-management",
   "metadata": {},
   "outputs": [
    {
     "data": {
      "text/plain": [
       "['labeledBow.feat',\n",
       " 'neg',\n",
       " 'pos',\n",
       " 'unsup',\n",
       " 'unsupBow.feat',\n",
       " 'urls_neg.txt',\n",
       " 'urls_pos.txt',\n",
       " 'urls_unsup.txt']"
      ]
     },
     "execution_count": 3,
     "metadata": {},
     "output_type": "execute_result"
    }
   ],
   "source": [
    "train_dir = os.path.join(dataset_dir, 'train')\n",
    "os.listdir(train_dir)"
   ]
  },
  {
   "cell_type": "code",
   "execution_count": 4,
   "id": "moved-square",
   "metadata": {},
   "outputs": [],
   "source": [
    "remove_dir = os.path.join(train_dir, 'unsup')\n",
    "shutil.rmtree(remove_dir) "
   ]
  },
  {
   "cell_type": "code",
   "execution_count": 5,
   "id": "breathing-resolution",
   "metadata": {},
   "outputs": [
    {
     "name": "stdout",
     "output_type": "stream",
     "text": [
      "Found 25000 files belonging to 2 classes.\n",
      "Using 20000 files for training.\n",
      "Found 25000 files belonging to 2 classes.\n",
      "Using 5000 files for validation.\n"
     ]
    }
   ],
   "source": [
    "batch_size = 1024 # 배치사이즈 1024\n",
    "seed = 123\n",
    "train_ds = tf.keras.preprocessing.text_dataset_from_directory(\n",
    "    'aclImdb/train', batch_size=batch_size, validation_split=0.2,\n",
    "    subset='training', seed=seed)\n",
    "val_ds = tf.keras.preprocessing.text_dataset_from_directory(\n",
    "    'aclImdb/train', batch_size=batch_size, validation_split=0.2,\n",
    "    subset='validation', seed=seed)\n",
    "\n",
    "# 80% trainining / 20% validation"
   ]
  },
  {
   "cell_type": "code",
   "execution_count": 6,
   "id": "elder-picnic",
   "metadata": {
    "scrolled": true
   },
   "outputs": [
    {
     "name": "stdout",
     "output_type": "stream",
     "text": [
      "0 b\"Oh My God! Please, for the love of all that is holy, Do Not Watch This Movie! It it 82 minutes of my life I will never get back. Sure, I could have stopped watching half way through. But I thought it might get better. It Didn't. Anyone who actually enjoyed this movie is one seriously sick and twisted individual. No wonder us Australians/New Zealanders have a terrible reputation when it comes to making movies. Everything about this movie is horrible, from the acting to the editing. I don't even normally write reviews on here, but in this case I'll make an exception. I only wish someone had of warned me before I hired this catastrophe\"\n",
      "1 b'This movie is SOOOO funny!!! The acting is WONDERFUL, the Ramones are sexy, the jokes are subtle, and the plot is just what every high schooler dreams of doing to his/her school. I absolutely loved the soundtrack as well as the carefully placed cynicism. If you like monty python, You will love this film. This movie is a tad bit \"grease\"esk (without all the annoying songs). The songs that are sung are likable; you might even find yourself singing these songs once the movie is through. This musical ranks number two in musicals to me (second next to the blues brothers). But please, do not think of it as a musical per say; seeing as how the songs are so likable, it is hard to tell a carefully choreographed scene is taking place. I think of this movie as more of a comedy with undertones of romance. You will be reminded of what it was like to be a rebellious teenager; needless to say, you will be reminiscing of your old high school days after seeing this film. Highly recommended for both the family (since it is a very youthful but also for adults since there are many jokes that are funnier with age and experience.'\n",
      "0 b\"Alex D. Linz replaces Macaulay Culkin as the central figure in the third movie in the Home Alone empire. Four industrial spies acquire a missile guidance system computer chip and smuggle it through an airport inside a remote controlled toy car. Because of baggage confusion, grouchy Mrs. Hess (Marian Seldes) gets the car. She gives it to her neighbor, Alex (Linz), just before the spies turn up. The spies rent a house in order to burglarize each house in the neighborhood until they locate the car. Home alone with the chicken pox, Alex calls 911 each time he spots a theft in progress, but the spies always manage to elude the police while Alex is accused of making prank calls. The spies finally turn their attentions toward Alex, unaware that he has rigged devices to cleverly booby-trap his entire house. Home Alone 3 wasn't horrible, but probably shouldn't have been made, you can't just replace Macauley Culkin, Joe Pesci, or Daniel Stern. Home Alone 3 had some funny parts, but I don't like when characters are changed in a movie series, view at own risk.\"\n",
      "0 b\"There's a good movie lurking here, but this isn't it. The basic idea is good: to explore the moral issues that would face a group of young survivors of the apocalypse. But the logic is so muddled that it's impossible to get involved.<br /><br />For example, our four heroes are (understandably) paranoid about catching the mysterious airborne contagion that's wiped out virtually all of mankind. Yet they wear surgical masks some times, not others. Some times they're fanatical about wiping down with bleach any area touched by an infected person. Other times, they seem completely unconcerned.<br /><br />Worse, after apparently surviving some weeks or months in this new kill-or-be-killed world, these people constantly behave like total newbs. They don't bother accumulating proper equipment, or food. They're forever running out of fuel in the middle of nowhere. They don't take elementary precautions when meeting strangers. And after wading through the rotting corpses of the entire human race, they're as squeamish as sheltered debutantes. You have to constantly wonder how they could have survived this long... and even if they did, why anyone would want to make a movie about them.<br /><br />So when these dweebs stop to agonize over the moral dimensions of their actions, it's impossible to take their soul-searching seriously. Their actions would first have to make some kind of minimal sense.<br /><br />On top of all this, we must contend with the dubious acting abilities of Chris Pine. His portrayal of an arrogant young James T Kirk might have seemed shrewd, when viewed in isolation. But in Carriers he plays on exactly that same note: arrogant and boneheaded. It's impossible not to suspect that this constitutes his entire dramatic range.<br /><br />On the positive side, the film *looks* excellent. It's got an over-sharp, saturated look that really suits the southwestern US locale. But that can't save the truly feeble writing nor the paper-thin (and annoying) characters. Even if you're a fan of the end-of-the-world genre, you should save yourself the agony of watching Carriers.\"\n",
      "0 b'I saw this movie at an actual movie theater (probably the $2.00 one) with my cousin and uncle. We were around 11 and 12, I guess, and really into scary movies. I remember being so excited to see it because my cool uncle let us pick the movie (and we probably never got to do that again!) and sooo disappointed afterwards!! Just boring and not scary. The only redeeming thing I can remember was Corky Pigeon from Silver Spoons, and that wasn\\'t all that great, just someone I recognized. I\\'ve seen bad movies before and this one has always stuck out in my mind as the worst. This was from what I can recall, one of the most boring, non-scary, waste of our collective $6, and a waste of film. I have read some of the reviews that say it is worth a watch and I say, \"Too each his own\", but I wouldn\\'t even bother. Not even so bad it\\'s good.'\n"
     ]
    }
   ],
   "source": [
    "for text_batch, label_batch in train_ds.take(1):\n",
    "  for i in range(5):\n",
    "    print(label_batch[i].numpy(), text_batch.numpy()[i])\n",
    "    # 1번째 배치(1024)에서 5개 출력해보기"
   ]
  },
  {
   "cell_type": "markdown",
   "id": "minimal-sample",
   "metadata": {},
   "source": [
    "# **Embedding layer**"
   ]
  },
  {
   "cell_type": "code",
   "execution_count": 58,
   "id": "brazilian-deadline",
   "metadata": {},
   "outputs": [],
   "source": [
    "embedding_layer = tf.keras.layers.Embedding(1000, 5) # bocab = 1000, 5 dimension"
   ]
  },
  {
   "cell_type": "markdown",
   "id": "uniform-lesson",
   "metadata": {},
   "source": [
    "**1번 example**"
   ]
  },
  {
   "cell_type": "code",
   "execution_count": 8,
   "id": "selected-paper",
   "metadata": {},
   "outputs": [],
   "source": [
    "result = embedding_layer(tf.constant([1, 2, 3]))"
   ]
  },
  {
   "cell_type": "code",
   "execution_count": 9,
   "id": "crude-kazakhstan",
   "metadata": {},
   "outputs": [
    {
     "data": {
      "text/plain": [
       "TensorShape([3, 5])"
      ]
     },
     "execution_count": 9,
     "metadata": {},
     "output_type": "execute_result"
    }
   ],
   "source": [
    "result.shape"
   ]
  },
  {
   "cell_type": "code",
   "execution_count": 10,
   "id": "automotive-modern",
   "metadata": {},
   "outputs": [
    {
     "data": {
      "text/plain": [
       "array([[ 0.04911261, -0.01548098,  0.01584821, -0.0473286 ,  0.02925647],\n",
       "       [-0.03795327,  0.04436849, -0.03938953, -0.02252357, -0.03000053],\n",
       "       [ 0.0018615 , -0.03280344, -0.02480272, -0.04515153, -0.048002  ]],\n",
       "      dtype=float32)"
      ]
     },
     "execution_count": 10,
     "metadata": {},
     "output_type": "execute_result"
    }
   ],
   "source": [
    "result.numpy()"
   ]
  },
  {
   "cell_type": "markdown",
   "id": "southwest-directory",
   "metadata": {},
   "source": [
    "**2번 example**"
   ]
  },
  {
   "cell_type": "code",
   "execution_count": 11,
   "id": "waiting-gilbert",
   "metadata": {},
   "outputs": [],
   "source": [
    "result = embedding_layer(tf.constant([[0, 1, 2], [3, 4, 5]]))"
   ]
  },
  {
   "cell_type": "code",
   "execution_count": 12,
   "id": "acting-solomon",
   "metadata": {},
   "outputs": [
    {
     "data": {
      "text/plain": [
       "TensorShape([2, 3, 5])"
      ]
     },
     "execution_count": 12,
     "metadata": {},
     "output_type": "execute_result"
    }
   ],
   "source": [
    "result.shape"
   ]
  },
  {
   "cell_type": "code",
   "execution_count": 13,
   "id": "green-lawyer",
   "metadata": {},
   "outputs": [
    {
     "data": {
      "text/plain": [
       "array([[[-0.03089815, -0.04239283, -0.04515635,  0.00618646,\n",
       "         -0.04136548],\n",
       "        [ 0.04911261, -0.01548098,  0.01584821, -0.0473286 ,\n",
       "          0.02925647],\n",
       "        [-0.03795327,  0.04436849, -0.03938953, -0.02252357,\n",
       "         -0.03000053]],\n",
       "\n",
       "       [[ 0.0018615 , -0.03280344, -0.02480272, -0.04515153,\n",
       "         -0.048002  ],\n",
       "        [ 0.04804472, -0.00329263,  0.03378585, -0.02984965,\n",
       "         -0.01211827],\n",
       "        [ 0.02109848, -0.04386741, -0.01033193,  0.03365595,\n",
       "         -0.0202814 ]]], dtype=float32)"
      ]
     },
     "execution_count": 13,
     "metadata": {},
     "output_type": "execute_result"
    }
   ],
   "source": [
    "result.numpy()"
   ]
  },
  {
   "cell_type": "markdown",
   "id": "extreme-prophet",
   "metadata": {},
   "source": [
    "# **분류 모델 만들어보기**"
   ]
  },
  {
   "cell_type": "markdown",
   "id": "cordless-family",
   "metadata": {},
   "source": [
    "**전처리**"
   ]
  },
  {
   "cell_type": "code",
   "execution_count": 14,
   "id": "gothic-video",
   "metadata": {},
   "outputs": [],
   "source": [
    "def custom_standardization(input_data):\n",
    "  lowercase = tf.strings.lower(input_data)\n",
    "  stripped_html = tf.strings.regex_replace(lowercase, '<br />', ' ')\n",
    "    # <br /> 을 공백으로 바꿔줌\n",
    "  return tf.strings.regex_replace(stripped_html,\n",
    "                                  '[%s]' % re.escape(string.punctuation), '') # 구두점 같은 것도 공백으로 바꿔줌\n",
    "\n",
    "vocab_size = 10000\n",
    "sequence_length = 100\n",
    "\n",
    "vectorize_layer = TextVectorization(\n",
    "    standardize=custom_standardization,\n",
    "    max_tokens=vocab_size,\n",
    "    output_mode='int',\n",
    "    output_sequence_length=sequence_length)\n",
    "\n",
    "text_ds = train_ds.map(lambda x, y: x) # 부정, 긍정의 label 0, 1은 사용하지 않음\n",
    "vectorize_layer.adapt(text_ds)"
   ]
  },
  {
   "cell_type": "code",
   "execution_count": 15,
   "id": "relevant-twins",
   "metadata": {},
   "outputs": [
    {
     "name": "stdout",
     "output_type": "stream",
     "text": [
      "b\"The original animated Dark Knight returns in this ace adventure movie that rivals Mask of Phantasm in its coolness. There's a lot of style and intelligence in Mystery of the Batwoman, so much more than Batman Forever or Batman and Robin.<br /><br />There's a new crime-fighter on the streets of Gotham. She dresses like a bat but she's not a grown-up Batgirl. And Batman is denying any affiliation with her. Meanwhile Bruce Wayne has to deal with the usual romances and detective work. But the Penguin, Bain and the local Mob makes things little more complicated.<br /><br />I didn't have high hopes for this 'un since being strongly let down but the weak Batman: Sub Zero (Robin isn't featured so much here!)but I was delighted with the imaginative and exciting set pieces, the clever plot and a cheeky sense of humor. This is definitely a movie no fan of Batman should be without. Keep your ears open for a really catchy song called 'Betcha Neva' which is featured prominently through-out.<br /><br />It's a shame the DVD isn't so great. Don't get me wrong there are some great features (the short 'Chase Me' is awesome) and a very cool Dolby 5.1 soundtrack but... the movie is presented in Pan and Scan. Batman: Mystery of the Batwoman was drawn and shot in 1.85:1 but this DVD is presented in 1.33:1 an in comparison to the widescreen clips shown on the features there IS picture cut off on both sides. I find this extremely annoying considering Mask of Phantasm was presented in anamorphic widescreen. Warner have had to re-release literally dozens of movies on DVD because people have complained about the lack of Original Aspect Ratio available on some titles. Why they chose to make that same mistake here again is beyond me.<br /><br />I would give this DVD 5/5 but the lack of OAR brings the overall score down to 4/5. It's a shame because widescreen would have completed a great DVD package.\"\n",
      "b'Probably my all-time favorite movie, a story of selflessness, sacrifice and dedication to a noble cause, but it\\'s not preachy or boring. It just never gets old, despite my having seen it some 15 or more times in the last 25 years. Paul Lukas\\' performance brings tears to my eyes, and Bette Davis, in one of her very few truly sympathetic roles, is a delight. The kids are, as grandma says, more like \"dressed-up midgets\" than children, but that only makes them more fun to watch. And the mother\\'s slow awakening to what\\'s happening in the world and under her own roof is believable and startling. If I had a dozen thumbs, they\\'d all be \"up\" for this movie.'\n",
      "b'I claim no matter how hard I seek I\\'ll never find a better movie version of \"Othello\". If you love Kenneth Branagh\\'s magnificent masterpieces \"Much ado about nothing\" (1993) and \"Hamlet\" (1996) as much as I do I\\'m dead certain you\\'ll also find Oliver Parker\\'s \"Othello\" irresistible. Laurence Fishburne has been in a various splendid roles during his career. He was quite terrific in \"Boys n the hood\" (1991) - I\\'ve always considered his amusing role of Furious Styles as his very greatest achievement. That was, of course, way before I saw this.<br /><br />He plays the part of Othello and he is probably in the most challenging role of his whole career but he does a brilliant, fantastic job. Ir\\xc3\\xa8ne Jacob is absolutely charming Desdemona and Kenneth Branagh is just simply phenomenal in a most fascinating role of the story\\'s crooked, manipulate villain Iago. Marvelous \"Othello\" is part of the absolute elite among Shakespeare\\'s ingenious works. It deals with his favorite topics: crookedness, envy, deceitfulness and jealousy. This movie adaptation is certainly one of the finest films I\\'ve seen that\\'s based on William Shakespeare\\'s plays.'\n",
      "b\"Some people say this is the best film that PRC ever released, I'm not too sure about that since I have a fond place in my heart for some of their mysteries. I will say that this is probably one of the most unique films they, or any other studio, major or minor, ever released.<br /><br />The plot is simple. The ghost of a wrongly executed ferryman has returned to the swamp to kill all those who lynched him as well as all of their off spring. Into this mix comes the granddaughter of one ghosts victims, the current ferryman. She takes over the ferry business as the ghost closes in on the man she loves.<br /><br />Shrouded in dense fog and set primarily on the single swamp set this is more musical poem than regular feature film.Listen to the rhythms of the dialog, especially in the early scenes, their is poetical cadence to them. Likewise there is a similar cadence to the camera work as it travels back and forth across the swamp as if crossing back and forth across the door way between life and death, innocence and guilt. The film reminds me of an opera or oratorio or musical object lesson more than a normal horror film. Its an amazing piece of film making that is probably unique in film history.<br /><br />This isn't to guild the Lilly. This is a low budget horror/mystery that tells you a neat little story that will keep you entertained. Its tale of love and revenge is what matters here, not the poetical film making and it holds you attention first and foremost (the technical aspects just being window dressing.) If there is any real flaw its the cheapness of the production. The fog does create a mood but it also hides the fact that this swamp is entirely on dry land. The constant back and forth across it is okay for a while but even after 58 minutes you do wish that we could see something else.<br /><br />Don't get me wrong I do like the film a great deal. Its a good little film that I some how wish was slightly less poverty stricken. Its definitely worth a look if you can come across it.\"\n",
      "b'A journey of discovery, this film follows the lives of one family living in a sleepy, island town in British Columbia. Languorous and dreamy, the inhabitants are satisfied to allow life to go on around them until a young, fresh-faced teacher, with new ideas arrives and brings with her life from the mainland. Slowly, their indolent state is awakened, the father (and principal of the local school) looks for excitement, the mother for stability, the oldest daughter for love, and the youngest for power. While not an incredible or ground-breaking piece of cinema, the movie is quietly enjoyable and good for a tired night when the wind is blowing. Unfortunately, I doubt anyone outside of Canada will find it easily accessible.'\n"
     ]
    }
   ],
   "source": [
    "for x in text_ds.take(1):\n",
    "    for i in range(5):\n",
    "        print(x[i].numpy())"
   ]
  },
  {
   "cell_type": "code",
   "execution_count": 16,
   "id": "measured-appliance",
   "metadata": {},
   "outputs": [
    {
     "name": "stdout",
     "output_type": "stream",
     "text": [
      "['', '[UNK]', 'the', 'and', 'a', 'of', 'to', 'is', 'in', 'it', 'i', 'this', 'that', 'was', 'as', 'with', 'for', 'movie', 'but', 'film', 'on', 'not', 'you', 'are', 'his', 'have', 'be', 'he', 'one', 'its', 'at', 'all', 'by', 'an', 'they', 'from', 'who', 'so', 'like', 'her', 'just', 'or', 'about', 'has', 'out', 'if', 'some', 'there', 'what', 'good', 'more', 'when', 'very', 'even', 'she', 'up', 'my', 'no', 'would', 'time', 'only', 'which', 'really', 'story', 'their', 'see', 'were', 'had', 'can', 'me', 'we', 'than', 'much', 'well', 'been', 'will', 'get', 'people', 'bad', 'also', 'other', 'do', 'into', 'great', 'first', 'because', 'how', 'most', 'him', 'dont', 'made', 'movies', 'then', 'them', 'way', 'films', 'make', 'could', 'any', 'after', 'too', 'characters', 'think', 'watch', 'being', 'two', 'many', 'seen', 'character', 'plot', 'little', 'never', 'acting', 'where', 'best', 'did', 'love', 'life', 'know', 'show', 'does', 'ever', 'your', 'better', 'over', 'end', 'still', 'off', 'these', 'here', 'scene', 'man', 'say', 'why', 'while', 'scenes', 'such', 'go', 'something', 'should', 'through', 'back', 'im', 'those', 'real', 'watching', 'doesnt', 'years', 'now', 'thing', 'though', 'another', 'actors', 'didnt', 'before', 'actually', 'nothing', 'new', 'funny', 'makes', 'work', 'find', 'look', 'same', 'old', 'going', 'part', 'few', 'lot', 'again', 'us', 'every', 'director', 'cast', 'want', 'thats', 'cant', 'quite', 'seems', 'young', 'things', 'pretty', 'world', 'around', 'down', 'however', 'got', 'fact', 'take', 'enough', 'both', 'own', 'give', 'between', 'original', 'horror', 'may', 'thought', 'series', 'ive', 'big', 'always', 'without', 'gets', 'isnt', 'right', 'long', 'role', 'point', 'almost', 'times', 'action', 'interesting', 'come', 'saw', 'theres', 'least', 'whole', 'done', 'must', 'comedy', 'bit', 'family', 'might', 'guy', 'minutes', 'music', 'anything', 'script', 'last', 'hes', 'far', 'since', 'feel', 'performance', 'probably', 'am', 'yet', 'sure', 'away', 'kind', 'rather', 'fun', 'worst', 'tv', 'woman', 'girl', 'played', 'making', 'anyone', 'found', 'each', 'having', 'comes', 'course', 'believe', 'our', 'day', 'although', 'goes', 'trying', 'shows', 'looks', 'especially', 'place', 'hard', 'put', 'different', 'wasnt', 'sense', 'maybe', 'once', 'ending', 'worth', 'reason', 'money', 'true', 'screen', 'set', 'job', 'main', 'looking', 'everything', 'watched', 'book', 'someone', 'dvd', 'said', 'later', 'takes', 'actor', 'play', 'plays', 'three', 'during', 'audience', 'together', 'instead', '2', 'effects', 'seem', 'version', '10', 'himself', 'everyone', 'seeing', 'night', 'special', 'left', 'beautiful', 'excellent', 'john', 'american', 'idea', 'house', 'nice', 'simply', 'shot', 'youre', 'high', 'kids', 'wife', 'black', 'else', 'less', 'read', 'war', 'fan', 'help', 'completely', 'year', 'second', 'star', 'friends', 'death', 'used', 'rest', 'try', 'mind', 'home', 'poor', 'men', 'classic', 'either', 'use', 'need', 'performances', 'given', 'wrong', 'hollywood', 'short', 'enjoy', 'until', 'father', 'boring', 'along', 'half', 'women', 'truly', 'next', 'dead', 'line', 'tell', 'start', 'came', 'production', 'remember', 'couple', 'wonderful', 'recommend', 'mean', 'others', 'awful', 'getting', 'stupid', 'full', 'face', 'let', 'terrible', 'understand', 'playing', 'perhaps', 'moments', 'camera', 'doing', 'sex', 'gives', 'often', 'definitely', 'itself', 'keep', 'episode', 'small', 'video', 'name', 'early', 'become', 'dialogue', 'school', 'person', 'perfect', 'lines', 'lost', 'stars', 'supposed', 'human', 'top', 'liked', 'sort', 'yes', 'felt', 'finally', 'case', 'title', 'couldnt', 'evil', 'entire', 'went', 'piece', 'problem', 'hope', 'live', 'written', 'cinema', 'absolutely', 'waste', 'budget', 'against', 'shes', 'picture', 'worse', 'fans', 'style', 'head', 'loved', 'certainly', 'white', 'entertaining', 'several', 'based', 'overall', 'direction', 'beginning', 'killer', 'example', 'becomes', 'boy', 'mother', 'id', 'oh', 'guys', 'care', 'seemed', 'mr', 'dark', 'turn', 'throughout', '3', '\\x96', 'drama', 'unfortunately', 'lives', 'despite', 'already', 'amazing', 'laugh', 'wanted', 'final', 'history', 'children', 'friend', 'low', 'fine', 'works', 'tries', 'wont', 'sound', 'guess', '1', 'totally', 'girls', 'youll', 'act', 'lead', 'humor', 'under', 'writing', 'past', 'wants', 'theyre', 'days', 'called', 'turns', 'behind', 'able', 'favorite', 'starts', 'enjoyed', 'quality', 'michael', 'flick', 'gave', 'game', 'child', 'viewer', 'soon', 'side', 'themselves', 'kill', 'genre', 'parts', 'sometimes', 'town', 'eyes', 'son', 'car', 'ones', 'brilliant', 'heart', 'thinking', 'expect', 'art', 'stuff', 'horrible', 'feeling', 'stories', 'late', 'etc', 'directed', 'decent', 'obviously', 'ill', 'actress', 'close', 'says', 'fight', 'moment', 'anyway', 'happens', 'killed', 'blood', 'highly', 'city', 'roles', 'heard', 'myself', 'cannot', 'run', 'hour', 'took', 'matter', 'particularly', 'leave', 'hand', 'wouldnt', 'hell', 'happened', 'kid', 'extremely', 'except', 'wonder', 'involved', 'attempt', 'chance', 'strong', 'police', 'obvious', 'told', 'happen', 'complete', 'group', 'coming', 'lack', 'violence', 'james', 'alone', 'voice', 'including', 'daughter', 'type', 'living', 'experience', 'murder', 'please', 'ago', 'age', 'looked', 'yourself', 'interest', 'god', 'score', 'ok', 'save', 'number', 'shown', 'stop', 'career', 'ends', 'annoying', 'none', 'lets', 'hilarious', 'usually', 'simple', 'taken', 'slow', 'crap', 'cinematography', 'usual', 'scary', 'exactly', 'possible', 'mostly', 'david', 'song', 'opening', 'sad', 'released', 'across', 'seriously', 'whose', 'known', 'started', 'relationship', 'hours', 'episodes', 'musical', 'finds', 'hit', 'serious', 'cut', 'english', 'cool', 'huge', 'brother', 'reality', 'jokes', 'shots', 'opinion', 'today', 'change', 'order', 'gore', 'robert', 'wish', 'running', 'hero', 'body', 'somewhat', 'major', 'ridiculous', 'view', 'saying', '4', 'taking', 'female', 'events', 'power', 'knew', 'level', 'happy', 'call', 'directors', 'strange', 'knows', 'talking', 'room', '5', 'king', 'attention', 'turned', 'future', 'supporting', 'documentary', 'apparently', 'sequence', 'novel', 'basically', 'arent', 'talent', 'songs', 'rating', 'clearly', 'husband', 'easily', 'due', 'country', 'words', 'local', 'tells', 'disappointed', 'appears', 'modern', 'british', 'problems', 'viewers', 'falls', 'sets', 'four', 'whether', 'important', 'bring', 'cheap', 'predictable', 'beyond', 'word', 'whats', 'silly', 'review', 'television', 'single', 'light', 'earth', 'needs', 'miss', 'similar', 'comic', 'entertainment', 'add', 'romantic', 'giving', 'enjoyable', 'five', 'jack', 'storyline', 'sequel', 'animation', 'actual', 'within', 'havent', 'begins', 'mention', 'upon', 'talk', 'herself', 'george', 'lots', 'bunch', 'lady', 'feels', 'ways', 'nearly', 'moving', 'surprised', 'using', 'points', 'paul', 'message', 'above', 'dull', 'theme', 'sorry', 'named', 'dialog', 'rock', 'thriller', 'comments', 'ten', 'team', 'richard', 'showing', 'theater', 'stay', 'mystery', 'effort', 'avoid', 'fantastic', 'middle', 'typical', 'somehow', 'parents', 'release', 'doubt', 'york', 'writer', 'fall', 'easy', 'leads', 'tried', 'viewing', 'general', 'tale', 'soundtrack', 'certain', 'sister', 'near', 'kept', 'hate', 'elements', 'among', 'weak', 'eye', 'means', 'filmed', 'working', 'feature', 'famous', 'class', 'check', 'learn', 'clear', 'editing', 'realistic', 'gone', 'figure', 'fast', 'particular', 'material', 'straight', 'sequences', 'form', 'follow', 'season', 'dance', 'brought', 'imagine', 'greatest', 'buy', 'eventually', 'period', 'hear', 'french', 'de', 'zombie', 'red', 'oscar', 'reviews', 'move', 'atmosphere', 'lame', 'forget', 'youve', 'die', 'space', 'deal', 'tom', 'expected', 'whos', 'whatever', 'okay', 'decided', 'truth', 'wait', 'surprise', 'indeed', 'believable', 'became', 'third', 'stand', 'sit', 'nature', 'poorly', 'peter', 'difficult', 'meets', 'possibly', 'note', 'lee', 'subject', 'premise', 'suspense', 'killing', 'writers', 'screenplay', 'leaves', 'romance', 'filmmakers', 'crime', 'nor', 'memorable', 'superb', 'stage', 'japanese', 'average', 'question', 'reading', 'rent', 'needed', '80s', 'sexual', 'write', 'street', 'begin', 'interested', 'situation', 'meet', 'keeps', 'dr', 'older', 'dramatic', 'society', 'boys', 'forced', 'footage', 'earlier', 'otherwise', 'unless', 'minute', 'result', 'emotional', 'badly', 'disney', 'features', 'credits', 'whom', 'shame', 'realize', 'previous', 'joe', 'comment', 'baby', 'total', 'effect', 'development', 'crazy', 'hands', 'mess', 'personal', 'weird', 'laughs', 'towards', 'imdb', 'directing', 'beauty', 'twist', 'incredibly', 'hot', 'sounds', 'male', 'brings', 'ask', 'appear', 'dog', 'background', 'apart', 'cheesy', 'america', 'creepy', 'b', 'remake', 'secret', 'return', 'quickly', 'perfectly', 'unique', 'portrayed', 'plenty', 'open', 'leading', 'fairly', 'scifi', 'plus', 'mark', 'ideas', '70s', 'meant', 'deep', 'worked', 'hardly', 'admit', 'free', '20', 'powerful', 'christmas', 'gay', 'forward', 'dream', 'casting', 'missing', 'setting', 'fantasy', 'fire', 'business', 'reasons', 'masterpiece', 'la', 'fails', 'create', 'attempts', 'unlike', 'joke', 'inside', 'break', 'present', 'potential', 'nudity', 'expecting', 'dumb', 'various', 'battle', 'rich', 'brothers', 'outside', 'success', 'recently', 'western', 'fighting', 'pay', 'spoilers', 'political', 'missed', 'match', 'copy', 'monster', 'manages', 'married', 'further', 'deserves', 'sadly', 'air', 'wasted', 'villain', 'front', 'telling', 'incredible', 'girlfriend', 'cute', 'odd', 'ben', 'social', 'sees', 'plain', 'crew', 'cop', 'bill', 'revenge', 'considering', 'acted', 'william', 'jane', 'talented', 'escape', 'members', 'following', 'box', 'era', 'caught', 'mentioned', 'decides', 'agree', 'pure', 'hold', 'laughing', 'large', 'flat', 'ended', 'credit', 'party', 'clever', 'uses', 'suddenly', 'effective', 'ultimately', 'fear', 'sweet', 'spent', 'pace', 'gun', 'doctor', 'created', 'mary', 'cartoon', 'audiences', 'bored', 'neither', 'tension', 'spirit', 'moves', 'books', 'waiting', 'visual', 'convincing', 'zombies', 'science', 'compared', 'biggest', 'kills', 'successful', 'public', 'choice', '8', 'cause', 'project', 'died', 'cold', 'rate', 'popular', 'consider', 'wrote', 'german', 'value', 'office', 'century', 'bizarre', 'animated', 'walk', 'produced', 'list', 'familiar', 'spend', 'slightly', 'scott', 'language', 'water', 'recent', 'concept', 'intelligent', 'entirely', 'depth', 'prison', 'positive', 'island', 'band', 'exciting', 'control', 'basic', 'werent', 'violent', 'speak', 'pointless', 'follows', 'decide', 'appreciate', 'adult', 'slasher', 'portrayal', 'somewhere', 'impossible', 'trouble', 'common', '12', 'singing', 'filled', 'impressive', 'awesome', 'amount', 'italian', 'company', 'amusing', 'state', 'focus', 'cover', 'former', 'chemistry', 'cat', 'younger', 'store', 'dancing', 'conclusion', 'van', 'situations', 'planet', 'mad', 'force', 'studio', 'solid', 'showed', 'considered', 'college', '7', 'respect', 'won', 'producers', 'tone', 'leaving', '15', 'recommended', 'hair', 'longer', 'computer', 'trash', 'shooting', 'trip', 'magic', 'jim', 'immediately', 'barely', 'steve', 'sitting', 'fit', 'sick', 'runs', 'naked', 'honest', 'questions', 'pathetic', 'culture', 'bought', 'generally', 'garbage', 'changed', 'charming', 'south', 'involving', 'adventure', 'accent', 'win', 'likes', '30', 'utterly', 'thanks', 'pictures', 'surprisingly', 'smith', 'ghost', 'aside', 'disturbing', 'humour', 'failed', 'tony', 'images', 'catch', 'alive', 'normal', 'glad', 'appeal', 'values', 'rare', 'appearance', 'fair', 'army', 'yeah', 'starring', 'personally', 'camp', 'adaptation', 'west', 'stick', 'nowhere', 'literally', 'cult', 'beautifully', 'ability', 'knowing', 'attack', 'silent', 'road', 'harry', 'aspect', 'terms', 'frank', 'twists', 'genius', 'natural', 'fiction', 'explain', 'detective', 'tough', 'thinks', 'equally', 'disappointing', 'touch', 'dreams', 'terrific', 'sexy', 'military', 'journey', '100', 'victims', 'touching', 'pick', 'meaning', 'animals', 'pass', 'mood', 'fake', 'dad', 'cinematic', 'week', 'unbelievable', 'subtle', 'mistake', 'brain', 'taste', 'lovely', 'sam', 'mysterious', 'added', 'walking', 'purpose', 'narrative', 'comedies', 'presented', 'outstanding', 'likely', 'laughable', 'issues', 'fully', 'complex', 'thank', 'slowly', 'loves', 'honestly', 'club', 'climax', 'wild', 'remains', 'master', 'date', 'costumes', 'thus', 'standard', 'self', 'soldiers', 'presence', 'justice', 'edge', 'youd', 'woods', 'indian', 'central', 'bottom', 'surely', 'plan', 'constantly', 'chase', 'stewart', 'stands', 'painful', 'excuse', 'details', 'cry', 'channel', 'loud', 'critics', 'door', 'photography', 'marriage', 'managed', 'makeup', 'law', 'places', 'paris', 'emotion', 'shoot', 'ride', 'pieces', 'nobody', 'government', 'festival', 'themes', 'minor', 'historical', 'finish', 'wow', 'students', 'exception', 'charles', 'aspects', 'train', 'soul', 'london', 'impression', 'hoping', '6', 'makers', 'innocent', 'boss', 'spoiler', 'charm', 'thrown', 'contains', 'church', 'sent', 'manner', 'fascinating', 'christopher', 'include', 'falling', 'besides', 'bed', 'changes', 'ahead', '9', 'intended', 'forever', 'expectations', 'difference', 'brief', 'victim', 'twice', 'opportunity', 'disappointment', 'puts', 'mainly', 'emotions', 'charlie', 'stunning', 'speaking', 'henry', 'gang', 'feelings', 'compelling', 'billy', 'award', 'suppose', 'suggest', 'chris', 'heavy', 'developed', 'bruce', 'trailer', 'scenery', 'pain', 'names', 'hotel', 'batman', 'acts', 'serial', 'happening', 'filming', 'born', 'track', 'hasnt', 'element', 'adults', 'impact', 'color', 'blue', 'available', 'bother', 'bar', 'tired', 'smart', 'rated', 'mans', 'confused', 'building', 'approach', 'system', 'support', 'student', 'kelly', 'flicks', 'supposedly', 'relationships', 'lacks', 'hurt', 'drawn', 'vampire', 'throw', 'opera', 'hey', 'gorgeous', 'gem', 'flaws', 'dies', 'delivers', 'confusing', 'summer', 'merely', 'fellow', 'drive', 'mediocre', 'content', 'wondering', 'jerry', 'everybody', 'appeared', 'offer', 'image', 'green', 'answer', 'laughed', 'ii', 'addition', 'random', 'notice', 'impressed', 'tragedy', 'putting', 'numbers', 'followed', 'seconds', 'offers', 'event', 'americans', 'absolute', 'motion', 'likable', 'games', 'flying', 'provides', 'lover', 'key', 'christian', 'boyfriend', 'rape', 'proves', 'park', 'mix', 'damn', 'zero', 'share', 'paid', 'million', 'fresh', 'faces', 'attractive', 'states', 'shock', 'folks', 'grade', 'giant', 'funniest', 'tragic', 'thoroughly', 'holes', 'finding', 'agent', '90', 'helps', 'arthur', 'filmmaker', 'williams', 'standards', 'seven', 'producer', 'noir', 'fox', 'extreme', 'creative', 'al', 'nasty', 'martin', 'imagination', 'forgotten', 'childhood', 'becoming', 'moral', 'jones', 'alien', 'ugly', 'murders', 'hidden', 'porn', 'intense', 'describe', 'beat', 'stuck', 'reminded', 'ready', 'held', 'detail', 'affair', 'step', 'ms', 'land', 'fell', 'pull', 'lighting', 'dirty', 'asks', 'artistic', 'therefore', 'stephen', 'negative', 'lived', 'industry', 'hospital', 'commentary', 'spot', 'rented', 'location', 'collection', 'alan', 'actresses', 'race', 'page', 'helped', 'count', 'adds', 'seemingly', 'lord', 'latter', 'ship', 'quick', 'nightmare', 'led', 'includes', 'redeeming', 'listen', 'bond', 'wars', 'superior', 'struggle', 'mental', 'lose', 'jason', 'ground', 'brian', 'angry', 'afraid', 'turning', 'six', 'shocking', 'inspired', 'information', 'filmmaking', 'don', 'direct', 'carry', 'area', 'whatsoever', 'shouldnt', 'drug', 'animal', 'teenage', 'picked', 'onto', 'martial', 'uncle', 'super', 'necessary', 'fashion', 'creature', 'apartment', 'wooden', 'wonderfully', 'treat', 'member', 'humans', 'food', 'favourite', 'design', 'davis', 'castle', 'anymore', 'actions', 'tim', 'intelligence', 'physical', 'moved', 'introduced', 'independent', 'energy', 'compare', 'allow', 'thin', 'teacher', 'scientist', 'plane', 'epic', 'comedic', 'allowed', 'todays', 'pacing', 'disaster', 'desire', 'soldier', 'personality', 'drugs', 'deeply', 'bloody', 'anywhere', 'sleep', 'sky', 'remarkable', 'queen', 'clothes', 'chinese', 'worthy', 'phone', 'legend', 'cops', 'began', 'wedding', 'wall', 'surprising', 'grace', 'deliver', 'cgi', 'willing', 'news', 'cliché', 'captain', 'arts', 'unusual', 'station', 'ray', 'pleasure', 'killers', 'desperate', 'professional', 'machine', 'johnny', 'anybody', 'theatre', 'sight', 'ring', 'limited', 'exist', 'dying', 'allen', 'reminds', 'mom', 'heroes', 'wearing', 'unnecessary', 'roll', 'rarely', 'process', 'ed', 'witch', 'provide', 'pilot', 'passion', 'danny', 'blame', 'bits', '60s', 'search', 'joy', 'criminal', 'clichés', 'asked', 'trust', 'nicely', 'moon', 'jeff', 'holds', 'apparent', 'accident', 'suicide', 'scared', 'returns', 'realized', 'ie', 'according', 'wanting', 'suspect', 'mouth', 'lies', 'intriguing', 'double', 'continue', 'build', 'watchable', 'understanding', 'tears', 'months', 'explained', 'technical', 'jump', 'gotten', 'dangerous', 'capture', 'religious', 'higher', 'hated', 'accept', 'warning', 'sat', 'heres', 'england', 'accurate', 'normally', 'monsters', 'lovers', 'conflict', 'growing', 'constant', 'academy', 'vision', 'stone', 'powers', 'ladies', 'douglas', 'dick', 'deserve', 'winning', 'toward', 'engaging', 'absurd', 'price', 'memory', 'forces', 'finished', 'andy', 'teen', 'joan', 'instance', 'empty', 'cable', 'brutal', 'artist', 'torture', 'terribly', 'record', 'player', 'kevin', 'faith', 'superman', 'met', 'lowbudget', 'jean', 'fail', 'extra', 'community', 'wind', 'whilst', 'suit', 'smile', 'saved', 'media', 'horse', 'hopes', 'gene', 'friendship', 'fat', 'explanation', '40', 'unknown', 'skills', 'private', 'players', 'mike', 'hadnt', 'captured', 'sucks', 'ordinary', 'nonsense', 'floor', 'eat', 'unfunny', 'tarzan', 'sign', 'murdered', 'heads', 'fights', 'cars', 'skip', 'prince', 'pop', 'nick', 'jr', 'adam', 'starting', 'screaming', 'kinda', 'european', 'dressed', 'villains', 'regular', 'prove', 'officer', 'japan', 'humorous', 'discovered', 'talents', 'streets', 'spanish', 'pulled', 'numerous', 'mine', 'length', 'judge', 'jesus', 'fred', 'featuring', 'worlds', 'witty', 'treated', 'manage', 'knowledge', 'issue', 'deserved', 'dated', 'context', 'whenever', 'werewolf', 'shallow', 'reviewers', 'revealed', 'responsible', 'peoples', 'partner', 'opposite', 'mission', 'lacking', 'genuine', 'field', 'drunk', 'continues', 'weve', 'somebody', 'soap', 'psychological', 'portray', 'memories', 'included', 'heaven', 'driving', 'visually', 'radio', 'pretentious', 'originally', 'loose', 'genuinely', 'creating', 'below', '1010', 'taylor', 'russian', 'results', 'guns', 'gold', 'fate', 'bright', 'bigger', 'youth', 'theyve', 'segment', 'saving', 'magnificent', 'keaton', 'hits', 'finest', 'cameo', 'blind', 'rubbish', 'quiet', 'opens', 'keeping', 'heroine', 'finale', 'deals', 'traditional', 'satire', 'kate', 'gags', 'eddie', 'discovers', 'cuts', 'curious', 'ball', 'morgan', 'miles', 'loving', 'ford', 'endless', 'dan', 'calls', 'board', 'behavior', 'anthony', 'unable', 'loss', 'locations', 'humanity', 'delightful', 'concerned', '1950s', 'sheer', 'reach', 'mixed', 'golden', 'sudden', 'stock', 'standing', 'scream', 'naturally', 'jackson', 'gonna', 'frankly', 'eric', 'breaks', 'advice', 'vhs', 'versions', 'vampires', 'stereotypes', 'sea', 'perspective', 'lesson', 'identity', 'visit', 'travel', 'realism', 'reaction', 'proved', 'plots', 'insane', 'gary', 'develop', 'bob', 'aware', 'ann', 'allows', 'albert', 'ultimate', 'survive', 'logic', 'grand', 'decade', 'broken', '90s', '50', 'visuals', 'village', 'underrated', 'shop', 'rob', 'noticed', 'national', 'leader', 'harris', 'grew', 'discover', 'dealing', 'corny', 'window', 'unexpected', 'spectacular', 'remembered', 'program', 'luck', 'essentially', 'decision', 'crappy', 'boat', 'technology', 'river', 'ran', 'morning', 'connection', 'c', 'bland', 'sing', 'lake', 'gratuitous', 'favor', 'efforts', 'current', 'pair', 'loses', 'jennifer', 'international', 'fathers', 'speed', 'santa', 'occasionally', 'hitler', 'blonde', 'welles', 'vehicle', 'utter', 'strength', 'rescue', 'received', 'overly', 'halloween', 'debut', 'caused', 'ages', 'test', 'seasons', 'kong', 'fault', 'failure', 'devil', 'cross', 'meeting', 'learned', 'jimmy', 'existence', 'cage', 'bet', 'rules', 'proper', 'native', 'model', 'lucky', 'ice', 'foreign', 'flashbacks', 'd', '810', 'types', 'graphic', 'entertained', 'comparison', 'ancient', 'sucked', 'sake', 'references', 'pleasant', 'foot', 'executed', 'evening', 'awkward', 'awards', 'author', 'wood', 'wise', 'vs', 'trek', 'study', 'steven', 'sean', 'recall', 'range', 'president', 'hearing', 'freedom', 'described', 'uk', 'sisters', 'singer', 'relate', 'laughter', 'formula', 'emotionally', 'edited', 'daniel', 'combination', 'barbara', 'aka', 'thomas', 'stopped', 'sequels', 'portraying', 'luke', 'gangster', 'delivered', 'creatures', 'contrived', 'believes', 'tape', 'sports', 'practically', 'passed', 'parody', 'majority', 'grant', 'fill', 'anime', 'voices', 'theaters', 'strongly', 'rose', 'owner', 'learns', 'largely', 'generation', 'asking', 'washington', 'round', 'relief', 'meanwhile', 'involves', 'haunting', 'handsome', 'germany', 'feet', 'brilliantly', 'wit', 'treatment', 'teenager', 'talks', 'steal', 'ruined', 'produce', 'priest', 'painfully', 'matt', 'france', 'fame', 'desert', 'daughters', 'contrast', 'clue', 'attitude', 'angel', 'vote', 'virtually', 'spoil', 'safe', 'religion', 'r', 'nevertheless', 'louis', 'excited', 'dreadful', 'assume', 'appealing', 'victor', 'surprises', 'suffering', 'sell', 'research', 'kick', 'classics', 'broadway', 'appropriate', 'relatively', 'portrays', 'mrs', 'irritating', 'howard', 'embarrassing', 'cares', '50s', 'teenagers', 'substance', 'shakespeare', 'reviewer', 'patrick', 'lynch', 'joseph', 'initial', 'hunter', 'hanging', 'gory', 'families', 'exploitation', 'depicted', 'creates', 'costs', 'commercial', 'clean', 'chief', 'post', 'matters', 'marry', 'extras', 'eating', 'claim', 'captures', 'bear', 'sympathetic', 'sheriff', 'levels', 'hopefully', 'haunted', 'excitement', 'built', 'brown', 'bomb', 'bank', 'anna', '11', 'tedious', 'steals', 'simon', 'rise', 'refreshing', 'jackie', 'insult', 'drew', 'continuity', 'choose', 'chick', 'bodies', 'unrealistic', 'site', 'send', 'robin', 'disgusting', 'correct', 'capable', 'united', 'theatrical', 'scare', 'repeated', 'promise', 'presents', 'parker', 'naive', 'marie', 'losing', 'forgettable', 'destroy', 'center', 'woody', 'winner', 'wide', 'unlikely', 'training', 'seat', 'rental', 'product', 'mask', 'lawyer', 'individual', 'grow', 'facts', 'evidence', 'dubbed', 'circumstances', 'chosen', 'australian', 'satisfying', 'obsessed', 'minds', 'heck', 'freddy', 'frame', 'candy', 'twenty', 'touches', 'thoughts', 'sons', 's', 'offensive', 'halfway', 'grown', 'football', 'fool', 'f', 'cash', 'buddy', 'asleep', 'welcome', 'walter', 'till', 'influence', 'hide', 'fly', 'depressing', 'cost', 'baseball', '1970s', 'target', 'subtitles', 'speech', 'roger', 'horribly', 'hill', 'fits', 'display', 'covered', 'contemporary', 'aliens', 'weekend', 'trilogy', 'shocked', 'remain', 'psycho', 'hunt', 'holding', 'fu', 'danger', 'category', 'believed', 'tiny', 'suffers', 'storytelling', 'source', 'skin', 'protagonist', 'overthetop', 'max', 'lower', 'convinced', 'bugs', 'ass', 'walks', 'saturday', 'ryan', 'ruin', 'rain', 'latest', 'eight', 'dry', 'drag', 'crowd', 'cowboy', 'costume', 'bringing', 'artists', 'witness', 'roy', 'promising', 'politics', 'market', 'lesbian', 'harsh', 'deaths', 'colors', 'closer', 'brave', 'blah', 'asian', 'unfortunate', 'speaks', 'hat', 'grave', 'europe', 'dogs', 'designed', 'demons', 'amateurish', 'tend', 'surreal', 'soft', 'provided', 'pity', 'nominated', 'invisible', 'handled', 'factor', '710', 'viewed', 'universal', 'serves', 'section', 'quest', 'previously', 'oliver', 'narration', 'multiple', 'gas', 'combined', 'cartoons', 'canadian', 'alex', 'texas', 'studios', 'reputation', 'reporter', 'peace', 'nude', 'magical', 'legendary', 'gordon', 'edward', 'degree', 'deadly', 'birth', 'angles', 'africa', 'accidentally', 'struggling', 'sorts', 'reveal', 'plans', 'mainstream', 'gritty', 'flesh', 'enter', 'draw', 'downright', 'adventures', 'suspenseful', 'supernatural', 'pulls', 'north', 'movement', 'moore', 'guilty', 'amateur', 'weeks', 'technically', 'recognize', 'propaganda', 'professor', 'path', 'paper', 'occasional', 'inner', 'fare', 'fairy', 'conversation', 'blockbuster', 'twisted', 'sinatra', 'reveals', 'realizes', 'qualities', 'offered', 'mountain', 'focused', 'directly', 'wouldve', 'whoever', 'wayne', 'walked', 'veteran', 'teens', 'stolen', 'skill', 'massive', 'kinds', 'exact', 'core', 'committed', 'accents', 'treasure', 'structure', 'stays', 'statement', 'princess', 'lousy', 'imagery', 'erotic', 'enemy', 'drop', 'convince', 'breaking', 'beast', 'atrocious', 'anger', 'victoria', 'titanic', 'service', 'rings', 'matrix', 'lewis', 'junk', 'false', 'express', 'explains', 'claims', '1980s', 'regret', 'experienced', 'execution', 'cinderella', 'aint', '1930s', '13', 'urban', 'universe', 'uninteresting', 'terror', 'revolution', 'proud', 'productions', 'prior', 'hong', 'highlight', 'hall', 'granted', 'frightening', 'friday', 'fictional', 'dozen', 'childrens', 'bothered', 'bmovie', 'belief', 'account', 'abuse', 'variety', 'teeth', 'surface', 'settings', 'pile', 'passing', 'mere', 'kim', 'irish', 'grim', 'fabulous', 'experiences', 'everywhere', 'dollars', 'department', 'buying', 'anne', 'angle', 'spends', 'security', 'routine', 'mistakes', 'lights', 'lifetime', 'fourth', 'darkness', 'clark', 'chose', 'alice', 'theory', 'sympathy', 'scares', 'pitt', 'mexican', 'forgot', 'crude', 'significant', 'sharp', 'scale', 'racist', 'print', 'lonely', 'interview', 'freeman', 'code', 'caine', 'beach', '25', '110', 'worthwhile', 'warm', 'von', 'understood', 'unconvincing', 'touched', 'spite', 'russell', 'robot', 'remotely', 'paint', 'jon', 'hed', 'facial', 'crash', 'answers', 'anderson', 'achieve', 'susan', 'stayed', 'pregnant', 'placed', 'pacino', 'novels', 'murderer', 'mgm', 'listening', 'learning', 'inspiration', 'greater', 'funnier', 'featured', 'driver', 'desperately', 'crying', 'clichéd', 'bourne', 'trapped', 'summary', 'slapstick', 'required', 'nancy', 'initially', 'format', 'forest', 'figured', 'extraordinary', 'encounter', 'depiction', 'columbo', 'changing', 'blow', 'task', 'san', 'rule', 'rights', 'paced', 'jungle', 'j', 'ghosts', 'environment', 'dress', 'donald', 'device', 'destroyed', 'burns', 'amazingly', 'wear', 'usa', 'table', 'rip', 'prefer', 'position', 'musicals', 'mildly', 'kung', 'julie', 'happiness', 'flashback', 'figures', 'extent', 'expert', 'examples', 'effectively', 'driven', 'dean', 'complicated', 'breathtaking', 'beloved', 'basis', '14', 'throwing', 'suffer', 'status', 'sounded', 'seek', 'rough', 'purely', 'performed', 'murphy', 'entertain', 'description', 'dennis', 'couldve', 'andor', 'alright', 'underground', 'sunday', 'serve', 'protect', 'prime', 'powell', 'paying', 'mothers', 'michelle', 'mexico', 'helping', 'forth', 'cruel', 'court', 'african', 'abandoned', '410', 'writerdirector', 'vietnam', 'rolling', 'raw', 'insight', 'ignore', 'closing', 'california', 'brooks', 'wilson', 'sleazy', 'scenario', 'originality', 'necessarily', 'midnight', 'melodrama', 'jessica', 'inept', 'hired', 'focuses', 'faithful', 'disbelief', 'delivery', 'china', 'amazed', 'afternoon', 'sarah', 'renting', 'nonetheless', 'leslie', 'lazy', 'larry', 'heavily', 'enjoying', 'emma', 'dragon', 'criticism', 'chilling', 'caring', 'cabin', 'bore', 'arms', 'adding', 'x', 'weapons', 'u', 'trick', 'sleeping', 'reminiscent', 'rachel', 'picks', 'ludicrous', 'johnson', 'jail', 'honor', 'deeper', 'cutting', 'criminals', 'claire', 'attacks', 'tree', 'tales', 'subplot', 'stereotypical', 'spy', 'sitcom', 'shut', 'ron', 'regarding', 'lugosi', 'lucy', 'kiss', 'jobs', 'everyday', 'determined', 'decades', 'cases', 'brad', 'base', 'amongst', '310', 'tradition', 'throws', 'thankfully', 'sword', 'succeeds', 'raised', 'obnoxious', 'notorious', 'league', 'join', 'idiot', 'hardy', 'critical', 'convey', 'cell', 'campy', 'views', 'via', 'socalled', 'related', 'prepared', 'praise', 'julia', 'india', 'experiment', 'dollar', 'confusion', 'choices', 'che', 'calling', 'wears', 'warned', 'shower', 'sensitive', 'remote', 'properly', 'performers', 'nowadays', 'nonexistent', 'mature', 'graphics', 'frequently', 'exists', 'drinking', 'challenge', 'blown', 'warner', 'stylish', 'spoof', 'southern', 'shadow', 'ripoff', 'remind', 'notable', 'network', 'nation', 'marvelous', 'ironic', 'introduction', 'guard', 'gruesome', 'favorites', 'expression', 'essential', 'cultural', 'causes', 'carries', 'aunt', 'attempting', 'attacked', 'wwii', 'tight', 'suck', 'struggles', 'sir', 'quirky', 'punch', 'nazi', 'metal', 'maria', 'locked', 'lincoln', 'lie', 'jewish', 'hence', 'handle', 'dude', 'comical', 'carried', 'bus', 'term', 'stupidity', 'stomach', 'replaced', 'regard', 'protagonists', 'fallen', 'clips', 'blair', 'andrews', 'advantage', 'thrilling', 'stranger', 'served', 'screening', 'rival', 'poignant', 'o', 'needless', 'mindless', 'madness', 'interpretation', 'inspector', 'ha', 'friendly', 'foster', 'escapes', 'embarrassed', 'delight', 'controversial', 'charge', 'balance', 'authentic', 'westerns', 'stops', 'reference', 'pool', 'legs', 'jumps', 'curse', 'carrying', 'arrives', 'appreciated', 'virgin', 'turkey', 'storm', 'sinister', 'seeking', 'scripts', 'rocks', 'obsession', 'navy', 'lisa', 'lane', 'intensity', 'flight', 'busy', 'breath', 'bound', 'bollywood', 'wishes', 'wins', 'vincent', 'vacation', 'timing', 'technique', 'successfully', 'retarded', 'refuses', 'pet', 'personalities', 'oneliners', 'ned', 'mirror', 'interviews', 'intentions', 'intellectual', 'horrific', 'hoffman', 'hitchcock', 'fbi', 'contain', 'comedian', 'upset', 'trial', 'suffered', 'steps', 'stanley', 'st', 'shorts', 'opened', 'oddly', 'noble', 'indie', 'fortunately', 'established', 'daily', 'angels', 'alas', 'wasting', 'titles', 'text', 'sum', 'sold', 'risk', 'mentally', 'mansion', 'horses', 'glimpse', 'expressions', 'credibility', 'chan', 'tune', 'strangely', 'sides', 'shines', 'revolves', 'reunion', 'presentation', 'portrait', 'par', 'medical', 'meaningful', 'jay', 'grey', 'flow', 'cynical', 'consists', 'belongs', '2006', 'warn', 'uncomfortable', 'troubled', 'topic', 'sun', 'succeed', 'spoken', 'perform', 'mob', 'manager', 'irony', 'internet', 'hint', 'east', 'broke', 'bbc', '910', 'wealthy', 'starred', 'shape', 'segments', 'neat', 'millions', 'lovable', 'kurt', 'hang', 'gripping', 'goofy', 'gods', 'fish', 'drives', 'demon', 'closely', 'albeit', 'aired', 'zone', 'womans', 'weapon', 'videos', 'trite', 'torn', 'ted', 'stan', 'scientists', 'overcome', 'oscars', 'nine', 'letting', 'lesser', 'imaginative', 'hole', 'enjoyment', 'endearing', 'elizabeth', 'dubbing', 'dinner', 'develops', 'connected', 'bridge', 'tracy', 'tied', 'solve', 'rogers', 'raise', 'proof', 'patient', 'mouse', 'miscast', 'hoped', 'hiding', 'hearts', 'gross', 'franchise', 'flawed', 'equal', 'credible', 'corner', 'birthday', 'worry', 'unforgettable', 'truck', 'tricks', 'sexuality', 'separate', 'ratings', 'racism', 'pride', 'pitch', 'mass', 'hundred', 'hills', 'glass', 'exceptional', 'ensemble', 'eg', 'countries', 'bitter', 'bettie', 'bag', 'ashamed', '30s', '1960s', 'whereas', 'unintentionally', 'toy', 'tour', 'sullivan', 'stretch', 'screenwriter', 'persons', 'pat', 'lying', 'laid', 'jake', 'hundreds', 'gain', 'entry', 'contact', 'annoyed', 'aged', 'wave', 'thrillers', 'thousands', 'suspects', 'suggests', 'redemption', 'plastic', 'ourselves', 'laura', 'holiday', 'happily', 'factory', 'catholic', 'buck', 'bo', 'bette', 'atmospheric', 'stunts', 'snow', 'sin', 'reed', 'philip', 'nelson', 'massacre', 'infamous', 'hood', 'helen', 'health', 'essence', 'concert', 'card', 'barry', 'andrew', '2000', 'tribute', 'tons', 'thief', 'riding', 'physically', 'pack', 'noted', 'n', 'mst3k', 'lucas', 'hip', 'elvira', 'drink', 'dislike', 'dig', 'dear', 'chases', 'burt', 'boll', 'battles', 'attraction', 'appearing', '2001', 'stood', 'saves', 'revelation', 'kicks', 'innocence', 'incoherent', 'host', 'homeless', 'h', 'fitting', 'boredom', 'believing', 'attempted', 'associated', 'terrifying', 'profound', 'pointed', 'neighborhood', 'letter', 'lessons', 'individuals', 'idiotic', 'husbands', 'hanks', 'hamlet', 'greatly', 'glory', 'gag', 'dramas', 'dialogs', 'crimes', 'crafted', 'competent', 'cats', 'bears', '45', 'theyd', 'tense', 'techniques', 'stanwyck', 'sings', 'sidney', 'object', 'miller', 'jeremy', 'importance', 'holmes', 'guts', 'crisis', 'continued', 'concerns', 'chair', 'baker', 'alike', 'sutherland', 'surrounding', 'stronger', 'striking', 'spots', 'searching', 'rush', 'requires', 'ralph', 'performing', 'knife', 'flaw', 'encounters', 'elvis', 'dragged', 'dealt', 'dancer', 'curtis', 'christ', 'charismatic', 'charisma', 'cameos', 'burning', 'briefly', 'acceptable', 'walls', 'typically', 'teach', 'strictly', 'spending', 'shed', 'sentimental', 'roberts', 'repeat', 'quote', 'overlooked', 'notch', 'library', 'kidnapped', 'karloff', 'horrors', 'homage', 'grows', 'goal', 'fx', 'elsewhere', 'easier', 'dentist', 'dawn', 'courage', 'britain', 'adapted', 'workers', 'wicked', 'thrills', 'stated', 'silence', 'shoots', 'sexually', 'setup', 'reactions', 'presumably', 'pleased', 'lion', 'killings', 'hooked', 'guessing', 'fortune', 'eva', 'disagree', 'covers', 'corrupt', 'colorful', 'civil', 'canada', 'branagh', 'appearances', 'wing', 'tremendous', 'thumbs', 'spike', 'shy', 'prom', 'perfection', 'nuclear', 'nose', 'neighbor', 'miniseries', 'lloyd', 'instantly', 'importantly', 'fifteen', 'expensive', 'dorothy', 'cup', 'cube', 'countless', 'cooper', 'cook', 'condition', 'complaint', 'beating', 'attached', 'arm', 'achieved', 'wonders', 'timeless', 'spooky', 'specific', 'silver', 'overrated', 'oil', 'italy', 'iii', 'hunting', 'gift', 'faced', 'estate', 'eerie', 'consequences', 'checking', 'chances', 'buried', 'bucks', 'ambitious', '3d', 'winter', 'vague', 'useless', 'toilet', 'tea', 'subplots', 'strikes', 'stealing', 'split', 'seagal', 'sandler', 'ripped', 'resolution', 'plague', 'occurs', 'matthau', 'hitting', 'handful', 'dare', 'creators', 'cousin', 'contract', 'bible', 'bat', 'assistant', 'university', 'surrounded', 'sends', 'row', 'reasonably', 'reallife', 'realise', 'prevent', 'pleasantly', 'per', 'nights', 'neck', 'medium', 'masters', 'loser', 'insulting', 'increasingly', 'horrendous', 'highlights', 'guest', 'godfather', 'em', 'dire', 'colour', 'catherine', 'carefully', 'cardboard', 'afterwards', 'accepted', '1st', 'virus', 'thousand', 'talked', 't', 'someones', 'repeatedly', 'persona', 'painting', 'overdone', 'notably', 'mafia', 'luckily', 'lab', 'korean', 'kings', 'ian', 'digital', 'chuck', 'arrested', 'arnold', 'allowing', 'aforementioned', 'admittedly', '911', '20th', 'weight', 'ward', 'wanna', 'strike', 'slightest', 'slight', 'raped', 'partly', 'packed', 'marks', 'magazine', 'heston', 'forgive', 'exercise', 'enters', 'dropped', 'con', 'commit', 'cole', 'bush', 'breasts', 'blob', 'beaten', '24', 'worthless', 'temple', 'superbly', 'stunt', 'spiritual', 'sophisticated', 'shall', 'secretary', 'screams', 'rushed', 'recognized', 'pushed', 'mid', 'menacing', 'lou', 'kudos', 'kane', 'intention', 'intent', 'identify', 'huh', 'frustrated', 'francisco', 'denzel', 'competition', 'cheese', 'characterization', 'chaplin', 'burn', '80', '40s', '210', 'wells', 'uninspired', 'tall', 'swedish', 'strip', 'souls', 'shining', 'rochester', 'revealing', 'providing', 'projects', 'loosely', 'larger', 'hype', 'guilt', 'fears', 'farce', 'drunken', 'doors', 'documentaries', 'comics', 'brilliance', '2005', 'wreck', 'widmark', 'wes', 'stiff', 'returned', 'repetitive', 'regardless', 'press', 'poverty', 'month', 'mitchell', 'inspiring', 'inevitable', 'horrid', 'gothic', 'futuristic', 'forbidden', 'flash', 'fay', 'fatal', 'disease', 'diamond', 'destruction', 'corpse', 'conspiracy', 'cared', 'cameron', 'bride', 'brand', 'bobby', 'attracted', 'adams', 'accused', 'absence', 'warrior', 'turner', 'superficial', 'sole', 'smooth', 'smoking', 'shell', 'root', 'represents', 'remaining', 'rap', 'psychiatrist', 'population', 'picking', 'photographed', 'notes', 'noise', 'mustsee', 'misses', 'miserably', 'mild', 'messages', 'knock', 'generous', 'evident', 'currently', 'curiosity', 'chasing', 'camerawork', 'blend', 'basement', 'winters', 'trio', 'superhero', 'sticks', 'spoiled', 'spirits', 'spin', 'samurai', 'planning', 'overacting', 'outrageous', 'non', 'le', 'jet', 'jerk', 'jamie', 'ironically', 'investigation', 'installment', 'indians', 'hire', 'guide', 'extended', 'empire', 'drags', 'doc', 'davies', 'cruise', 'convoluted', 'clues', 'carter', 'carrey', 'captivating', 'boxing', 'bathroom', 'appalling', 'anyways', 'accomplished', 'wannabe', 'wake', 'union', 'trees', 'trade', 'thugs', 'territory', 'splendid', 'shark', 'relative', 'reasonable', 'rage', 'pulling', 'poster', 'pie', 'officers', 'load', 'jumping', 'ignored', 'idiots', 'hollow', 'greek', 'glenn', 'flynn', 'flawless', 'failing', 'enjoys', 'elaborate', 'drivel', 'directorial', 'creation', 'cox', 'cia', 'carol', 'brazil', 'aimed', 'wondered', 'twin', 'tunes', 'shortly', 'push', 'opposed', 'occurred', 'melodramatic', 'listed', 'laurel', 'hatred', 'genres', 'fired', 'fancy', 'eve', 'elderly', 'distant', 'distance', 'discussion', 'derek', 'closeups', 'childish', 'burton', 'beings', 'bands', '2004', 'wealth', 'uneven', 'theyll', 'swear', 'spell', 'sloppy', 'response', 'obscure', 'newspaper', 'morality', 'mile', 'lacked', 'incident', 'heat', 'hardcore', 'executive', 'draws', 'choreography', 'brains', 'border', 'bell', 'arrive', 'areas', 'alltime', '2002', 'unbearable', 'trap', 'timothy', 'synopsis', 'selling', 'scripted', 'reynolds', 'returning', 'progress', 'photographer', 'monkey', 'mickey', 'mel', 'matthew', 'jealous', 'grab', 'farm', 'exposed', 'exaggerated', 'definite', 'buddies', 'altogether', 'abilities', '18', '17', 'worried', 'twelve', 'topless', 'titled', 'threat', 'suits', 'scientific', 'ritter', 'relevant', 'reduced', 'ranks', 'pushing', 'purple', 'piano', 'ought', 'monkeys', 'minimal', 'kenneth', 'hudson', 'holy', 'gradually', 'fever', 'explosion', 'dvds', 'discuss', 'discovery', 'dignity', 'depression', 'darker', 'cried', 'cagney', 'bullets', 'bleak', 'beer', 'argue', 'ad', 'achievement', '2003', 'warren', 'uwe', 'unbelievably', 'threw', 'thirty', 'symbolism', 'subsequent', 'spring', 'size', 'shadows', 'sacrifice', 'receive', 'ps', 'precious', 'nazis', 'narrator', 'machines', 'logical', 'liberal', 'landscape', 'kirk', 'intrigued', 'gotta', 'goldberg', 'gentle', 'escaped', 'engaged', 'emily', 'editor', 'duo', 'differences', 'detailed', 'dave', 'concerning', 'citizen', 'builds', '2nd', '16', 'web', 'triumph', 'ticket', 'throat', 'sunshine', 'struck', 'stole', 'soviet', 'smoke', 'sidekick', 'savage', 'sally', 'robots', 'ridiculously', 'resembles', 'reached', 'proceedings', 'practice', 'portion', 'philosophy', 'offended', 'nurse', 'nearby', 'movements', 'maker', 'ken', 'kapoor', 'jazz', 'ireland', 'houses', 'hates', 'grandmother', 'existed', 'et', 'doctors', 'disc', 'butt', 'broad', 'birds', 'beats', 'apes', 'annie', 'whale', 'website', 'watches', 'travels', 'thrill', 'threatening', 'shoes', 'scarecrow', 'restaurant', 'pulp', 'psychotic', 'orders', 'onscreen', 'mountains', 'motivation', 'meat', 'margaret', 'lifestyle', 'karen', 'intrigue', 'instant', 'hysterical', 'hurts', 'hugh', 'harder', 'hal', 'explicit', 'explaining', 'drawing', 'demands', 'deliberately', 'dawson', 'daring', 'conversations', 'contrary', 'commented', 'combat', 'chorus', 'cameras', 'brady', 'blatant', 'bird', 'argument', 'antics', 'admire', 'walken', 'unfolds', 'translation', 'rural', 'reaches', 'producing', 'panic', 'outcome', 'offering', 'neil', 'morris', 'merit', 'ingredients', 'holly', 'hideous', 'heroic', 'headed', 'groups', 'glover', 'funeral', 'focusing', 'explore', 'ex', 'duke', 'defeat', 'countryside', 'composed', 'commercials', 'clothing', 'burned', 'banned', 'audio', 'atlantis', 'afford', 'affected', '60', 'walker', 'vivid', 'vicious', 'unwatchable', 'unintentional', 'tortured', 'subjects', 'string', 'streisand', 'spare', 'shelf', 'selfish', 'seed', 'ruth', 'react', 'loads', 'kidding', 'grinch', 'germans', 'enterprise', 'ease', 'decisions', 'damage', 'cure', 'cuba', 'complain', 'clumsy', 'clint', 'chain', 'brando', 'block', 'backdrop', 'awake', 'ah', 'adorable', 'adequate', 'abc', 'yesterday', 'waters', 'upper', 'unpleasant', 'undoubtedly', 'treats', 'tommy', 'satisfied', 'saga', 'relies', 'primary', 'pretend', 'possessed', 'murderous', 'mate', 'lighthearted', 'jeffrey', 'innovative', 'gray', 'godzilla', 'garden', 'errors', 'distracting', 'danes', 'craft', 'colonel', 'carpenter', 'blank', 'bare', 'australia', 'april', 'alexander', 'aging', '1996', '1990s', 'thick', 'tame', 'succeeded', 'stellar', 'spielberg', 'soccer', 'secondly', 'satan', 'sadness', 'perry', 'performer', 'passes', 'onedimensional', 'odds', 'nightmares', 'lust', 'lol', 'lips', 'leg', 'lately', 'kitchen', 'involvement', 'improved', 'impress', 'hook', 'hints', 'hamilton', 'furthermore', 'frustration', 'explosions', 'doll', 'disturbed', 'displays', 'disappear', 'couples', 'brooklyn', 'broadcast', 'beneath', 'bedroom', 'wallace', 'vast', 'survival', 'sport', 'smaller', 'shine', 'sadistic', 'rank', 'quotes', 'popcorn', 'patients', 'official', 'neighbors', 'mistaken', 'juvenile', 'jonathan', 'goodness', 'forms', 'fond', 'exotic', 'ego', 'eccentric', 'dozens', 'displayed', 'disjointed', 'directs', 'dialogues', 'describes', 'craig', 'comfortable', 'coherent', 'celluloid', 'careers', 'buffs', 'brosnan', 'bite', 'avoided', 'advance', 'wolf', 'winds', 'w', 'subtlety', 'slap', 'ships', 'rid', 'represented', 'removed', 'remarkably', 'rambo', 'primarily', 'politically', 'pays', 'occur', 'myers', 'mildred', 'manhattan', 'maggie', 'los', 'linda', 'l', 'joey', 'influenced', 'implausible', 'helicopter', 'heartwarming', 'giallo', 'generic', 'gadget', 'enormous', 'ears', 'drops', 'dracula', 'disappeared', 'desperation', 'conservative', 'connect', 'chess', 'blows', 'ballet', '3rd', 'versus', 'tracks', 'terry', 'stooges', 'staying', 'sits', 'similarly', 'signs', 'shirley', 'settle', 'sentence', 'rooms', 'roman', 'represent', 'props', 'planned', 'nations', 'models', 'method', 'm', 'liking', 'lena', 'itll', 'investigate', 'interaction', 'inferior', 'imagined', 'ignorant', 'honesty', 'hart', 'hammer', 'flop', 'faster', 'falk', 'emphasis', 'e', 'dynamic', 'doomed', 'disappoint', 'diane', 'devoted', 'cusack', 'consistent', 'companion', 'causing', 'carrie', 'carl', 'cards', 'blake', 'blacks', 'urge', 'transformation', 'surviving', 'stinks', 'relations', 'relation', 'prostitute', 'principal', 'overwhelming', 'mysteries', 'lawrence', 'jesse', 'involve', 'introduces', 'hung', 'humble', 'guessed', 'folk', 'fisher', 'finger', 'felix', 'eastwood', 'destiny', 'depressed', 'dedicated', 'dating', 'corruption', 'contained', 'consistently', 'circle', 'bonus', 'bold', 'amy', 'amanda', 'advise', 'wore', 'womens', 'weakest', 'trailers', 'tender', 'survived', 'styles', 'snl', 'severe', 'scheme', 'sandra', 'relatives', 'rebel', 'racial', 'proceeds', 'possibility', 'outer', 'mixture', 'menace', 'meaningless', 'matches', 'maintain', 'loyal', 'leonard', 'justify', 'judging', 'immensely', 'hollywoods', 'harvey', 'ginger', 'freak', 'florida', 'eyre', 'endings', 'duty', 'domino', 'divorce', 'dinosaurs', 'dancers', 'conventional', 'command', 'catches', 'blues', 'willis', 'wellknown', 'waited', 'vegas', 'understandable', 'ties', 'swimming', 'survivors', 'suited', 'stinker', 'simplistic', 'secrets', 'scooby', 'revolutionary', 'resemblance', 'reads', 'promised', 'preview', 'orson', 'opinions', 'nonsensical', 'moody', 'miike', 'lay', 'kicked', 'highest', 'handed', 'guarantee', 'grasp', 'gangsters', 'flies', 'explored', 'everyones', 'dutch', 'diana', 'devoid', 'destroying', 'conflicts', 'cliff', 'buildings', 'buff', 'blond', 'behave', 'yellow', 'witches', 'valuable', 'traveling', 'tiresome', 'terrorist', 'taught', 'switch', 'staged', 'specifically', 'shirt', 'seventies', 'safety', 'pokemon', 'painted', 'oz', 'norman', 'motivations', 'modesty', 'kingdom', 'illogical', 'illness', 'hitman', 'francis', 'embarrassment', 'education', 'edgar', 'donna', 'dickens', 'critic', 'convincingly', 'closest', 'cheating', 'channels', 'centers', 'blew', 'beliefs', 'backgrounds', 'alongside', '3000', '2007', '1980', 'wet', 'visible', 'useful', 'transfer', 'toys', 'thru', 'thoughtful', 'stereotype', 'staff', 'shelley', 'ruthless', 'rising', 'reaching', 'purchase', 'prisoner', 'peters', 'parent', 'online', 'olivier', 'notion', 'nervous', 'motives', 'lily', 'lasted', 'junior', 'isolated', 'heartbreaking', 'garbo', 'g', 'financial', 'endure', 'eighties', 'dreary', 'disneys', 'dances', 'crush', 'crocodile', 'combine', 'coach', 'claimed', 'cg', 'bin', 'benefit', 'awe', 'authority', 'astaire', 'arrogant', 'armed', 'arguably', 'amounts', 'akshay', '1999', 'wrestling', 'wives', 'witnesses', 'widow', 'viewings', 'trashy', 'tomatoes', 'tear', 'splatter', 'solo', 'solely', 'smiling', 'senseless', 'sappy', 'report', 'realizing', 'randy', 'raising', 'questionable', 'possibilities', 'passionate', 'outfit', 'nonstop', 'nomination', 'namely', 'montage', 'marty', 'judy', 'joined', 'inane', 'grandfather', 'glorious', 'formulaic', 'fooled', 'ensues', 'enemies', 'elegant', 'dolls', 'der', 'depicts', 'classes', 'brutally', 'boot', 'balls', 'aid', '1940s', 'wizard', 'wed', 'virginia', 'v', 'user', 'ups', 'twilight', 'transition', 'tad', 'streep', 'stilted', 'stevens', 'slick', 'rick', 'responsibility', 'recorded', 'recognition', 'pretending', 'plight', 'philosophical', 'parties', 'occasion', 'mars', 'lit', 'latin', 'jumped', 'ideal', 'fascinated', 'facing', 'ellen', 'developing', 'construction', 'concern', 'coffee', 'chased', 'charlotte', 'chaos', 'celebrity', 'bath', 'basketball', 'accompanied', 'abysmal', 'widely', 'vulnerable', 'voight', 'voiceover', 'unsettling', 'unhappy', 'tongue', 'similarities', 'shake', 'sellers', 'scope', 'rotten', 'richards', 'remakes', 'pursuit', 'poetry', 'nicholas', 'museum', 'miracle', 'minimum', 'loaded', 'letters', 'lees', 'landscapes', 'journalist', 'invasion', 'intimate', 'incomprehensible', 'inappropriate', 'gabriel', 'fix', 'elephant', 'earned', 'dinosaur', 'delivering', 'daddy', 'confidence', 'chooses', 'chicago', 'cheated', 'bottle', 'bone', 'betty', 'bergman', 'arrived', 'americas', 'alternate', 'alert', 'affect', 'access', 'yelling', 'visits', 'vaguely', 'underlying', 'trained', 'tag', 'sub', 'staring', 'standout', 'stale', 'snake', 'slave', 'sentinel', 'rocket', 'rendition', 'punk', 'porno', 'paranoia', 'niro', 'mummy', 'mentioning', 'mario', 'literature', 'link', 'li', 'laws', 'inevitably', 'improve', 'hunters', 'horrifying', 'hbo', 'fonda', 'firstly', 'engage', 'elm', 'downhill', 'designs', 'del', 'cringe', 'considerable', 'closet', 'cinematographer', 'cinemas', 'cary', 'carradine', 'bud', 'borrowed', 'attitudes', 'ya', 'wished', 'verhoeven', 'unaware', 'testament', 'tap', 'suitable', 'stunned', 'secretly', 'riveting', 'rex', 'potentially', 'pig', 'ocean', 'nuts', 'nostalgic', 'miserable', 'mann', 'madefortv', 'lengthy', 'khan', 'kennedy', 'inventive', 'heights', 'gundam', 'gerard', 'equivalent', 'edie', 'eager', 'defend', 'complexity', 'compassion', 'challenging', 'cd', 'catching', 'cake', 'bullet', 'astonishing', 'agreed', 'agents', '70', '0', 'troops', 'tooth', 'tonight', 'terrorists', 'technicolor', 'sums', 'strangers', 'steel', 'spoke', 'slaughter', 'showcase', 'september', 'resist', 'remarks', 'recording', 'ramones', 'purposes', 'progresses', 'prisoners', 'polished', 'polanski', 'plausible', 'photos', 'paulie', 'pages', 'overlong', 'molly', 'measure', 'masterpieces', 'masterful', 'limits', 'intentionally', 'illegal', 'hopper', 'hopeless', 'foul', 'feed', 'faults', 'expressed', 'exploration', 'exceptionally', 'ethan', 'directions', 'dimensional', 'damon', 'creep', 'creativity', 'corporate', 'comparing', 'climactic', 'cleverly', 'cities', 'choreographed', 'choppy', 'chest', 'catchy', 'buffalo', 'babe', 'awfully', 'appreciation', 'alcoholic', 'airplane', 'advanced', 'abusive', '1990', 'wrapped', 'wound', 'wishing', 'wandering', 'wacky', 'vengeance', 'understated', 'todd', 'tie', 'sue', 'stress', 'solution', 'scores', 'rises', 'richardson', 'rabbit', 'punishment', 'pearl', 'pants', 'nicole', 'nicholson', 'musicians', 'mundane', 'methods', 'messed', 'masses', 'march', 'losers', 'lemmon', 'kicking', 'justin', 'iraq', 'incompetent', 'homosexual', 'griffith', 'fighter', 'exchange', 'equipment', 'desired', 'darren', 'crucial', 'communist', 'classical', 'civilization', 'capturing', 'blunt', 'blowing', 'beatty', 'bay', 'bakshi', 'arrival', 'airport', 'agrees', 'abraham', 'wounded', 'witnessed', 'wholly', 'waves', 'uplifting', 'unpredictable', 'travesty', 'tends', 'teachers', 'taxi', 'suspicious', 'surfing', 'sounding', 'ruby', 'royal', 'robinson', 'robbins', 'reflect', 'raymond', 'rangers', 'randomly', 'purchased', 'promises', 'prequel', 'pierce', 'performs', 'parallel', 'nerd', 'muslim', 'misery', 'mighty', 'mentions', 'melting', 'manipulative', 'macy', 'macarthur', 'lone', 'landing', 'kyle', 'iron', 'iran', 'invented', 'integrity', 'improvement', 'gandhi', 'fury', 'exposure', 'experiments', 'educational', 'edgy', 'earl', 'dust', 'dub', 'domestic', 'descent', 'depicting', 'deaf', 'dalton', 'da', 'complaints', 'chicks', 'bela', 'bang', 'assumed', 'artificial', 'ape', 'angeles', 'analysis', 'aids', 'advertising', '1973', '13th', 'wisdom', 'unit', 'twins', 'troubles', 'swim', 'supported', 'stiller', 'square', 'species', 'sneak', 'sissy', 'simplicity', 'scottish', 'roommate', 'resources', 'resident', 'require', 'receives', 'prize', 'poem', 'plant', 'pan', 'othello', 'orleans', 'ollie', 'montana', 'lyrics', 'lowest', 'kubrick', 'kansas', 'israel', 'grayson', 'graham', 'gentleman', 'floating', 'dysfunctional', 'doubts', 'demented', 'defense', 'connery', 'compelled', 'blast', 'berlin', 'belong', 'angela', 'alcohol', 'yard', 'writes', 'whoopi', 'wendy', 'warriors', 'warmth', 'victory', 'unexpectedly', 'tastes', 'survivor', 'suffice', 'straightforward', 'spread', 'spain', 'sentiment', 'seeks', 'roots', 'rocky', 'respectively', 'resemble', 'relax', 'predict', 'pops', 'petty', 'paltrow', 'noone', 'mini', 'middleaged', 'maniac', 'mall', 'legal', 'june', 'irrelevant', 'instinct', 'household', 'hilariously', 'greed', 'generated', 'gather', 'frustrating', 'frequent', 'fascination', 'excessive', 'definition', 'crack', 'copies', 'constructed', 'complaining', 'cliche', 'cave', 'careful', 'capital', 'button', 'attend', 'ashley', 'appropriately', 'acid', 'accuracy', 'abused', '1984', '1972', '–', 'wouldbe', 'worker', 'watson', 'waitress', 'unseen', 'unfair', 'underneath', 'suggested', 'simpson', 'signed', 'sid', 'schools', 'reid', 'reeves', 'raises', 'priceless', 'poison', 'pit', 'photo', 'package', 'ordered', 'objective', 'nathan', 'meryl', 'laughably', 'kay', 'josh', 'inexplicably', 'greedy', 'global', 'gifted', 'farrell', 'enthusiasm', 'empathy', 'eaten', 'dreck', 'drake', 'discovering', 'din', 'deceased', 'daniels', 'craven', 'businessman', 'bridget', 'boom', 'amused', 'willie', 'ustinov', 'tripe', 'tank', 'stargate', 'spirited', 'snakes', 'sincere', 'simmons', 'significance', 'scotland', 'ruins', 'roth', 'rolled', 'restored', 'provoking', 'preposterous', 'pitiful', 'phantom', 'pg13', 'patience', 'opportunities', 'naughty', 'mtv', 'moronic', 'mistress', 'metaphor', 'mayor', 'marion', 'map', 'madonna', 'lundgren', 'lively', 'likewise', 'julian', 'joins', 'infected', 'imitation', 'ignorance', 'icon', 'hello', 'heartfelt', 'guests', 'fulci', 'females', 'familys', 'exposition', 'devils', 'despair', 'desires', 'damme', 'correctly', 'companies', 'clip', 'chapter', 'campbell', 'butler', 'bunny', 'blade', 'amusement', '1987', '1933', 'weaknesses', 'wakes', 'valley', 'unreal', 'tribe', 'suspend', 'softcore', 'sink', 'shouldve', 'shaky', 'secondary', 'scrooge', 'satisfy', 'rude', 'romero', 'robbery', 'rave', 'quit', 'puppet', 'pun', 'psychology', 'provocative', 'primitive', 'precisely', 'pounds', 'posted', 'pal', 'noises', 'murdering', 'monk', 'lock', 'lackluster', 'jenny', 'insurance', 'hackneyed', 'guaranteed', 'greg', 'greatness', 'grabs', 'generations', 'flair', 'fields', 'dixon', 'counts', 'confess', 'conditions', 'composer', 'chills', 'casts', 'carell', 'bread', 'baldwin', 'attorney', 'assigned', 'assassin', 'alfred', 'activities', 'wretched', 'weakness', 'vader', 'unoriginal', 'unlikable', 'trend', 'trademark', 'stark', 'sixties', 'simultaneously', 'shares', 'rukh', 'romp', 'rifle', 'resort', 'referred', 'receiving', 'psychic', 'pot', 'positively', 'pink', 'parsons', 'pamela', 'overlook', 'operation', 'omen', 'occasions', 'nyc', 'ninja', 'merits', 'mechanical', 'mclaglen', 'leon', 'laurence', 'kissing', 'keith', 'karl', 'introduce', 'interests', 'inconsistent', 'furious', 'fought', 'feelgood', 'expedition', 'eugene', 'electric', 'edition', 'dose', 'distribution', 'disliked', 'deserted', 'dee', 'conventions', 'conscience', 'commander', 'citizens', 'championship', 'brenda', 'behaviour', 'ambiguous', 'alison', 'adopted', 'active', '35', '1983', '1971', 'wrap', 'trail', 'timon', 'tiger', 'teaching', 'stumbled', 'stores', 'stones', 'servant', 'senses', 'seldom', 'sassy', 'rubber', 'respected', 'rejected', 'region', 'raines', 'property', 'prey', 'popularity', 'poetic', 'nail', 'masks', 'mankind', 'lois', 'literary', 'lindsay', 'les', 'kumar', 'jaws', 'imaginable', 'historically', 'harm', 'handling', 'grudge', 'gender', 'franco', 'filth', 'filling', 'fi', 'fest', 'examination', 'emperor', 'disappears', 'devices', 'despicable', 'defined', 'cruelty', 'contest', 'conclude', 'conceived', 'comfort', 'comedians', 'coincidence', 'clown', 'closed', 'christy', 'christians', 'celebration', 'caliber', 'bumbling', 'bull', 'barrymore', 'asylum', 'andre', 'additional', 'accomplish', '1997', '1968', 'winchester', 'wildly', 'widescreen', 'walsh', 'voiced', 'vice', 'unfold', 'teams', 'stuart', 'spock', 'shoulders', 'sci', 'roof', 'retired', 'remade', 'realm', 'rates', 'prepare', 'physics', 'phony', 'passable', 'paradise', 'palma', 'nostalgia', 'newly', 'martha', 'marketing', 'maid', 'loyalty', 'leo', 'lands', 'joel', 'iq', 'inability', 'immature', 'heros', 'hapless', 'grotesque', 'georges', 'gear', 'flashy', 'fed', 'favour', 'doom', 'distinct', 'deranged', 'deniro', 'cue', 'crystal', 'costars', 'costar', 'chicken', 'charged', 'burst', 'biography', 'biko', 'belushi', 'awhile', 'alternative', 'alicia', 'affection', 'absurdity', 'absent', '2008', '19th', '1995', '1993', '1970', 'visited', 'tunnel', 'tracking', 'tomorrow', 'teaches', 'tacky', 'ta', 'suitably', 'studying', 'skull', 'skits', 'showdown', 'shaw', 'rooney', 'resulting', 'repeating', 'releases', 'regarded', 'reflects', 'promote', 'prominent', 'profanity', 'premiere', 'portrayals', 'parade', 'nod', 'murray', 'mentality', 'melody', 'louise', 'items', 'invited', 'investigating', 'interactions', 'indication', 'hulk', 'hk', 'frightened', 'fingers', 'feminist', 'encourage', 'dresses', 'downey', 'dimension', 'demonstrates', 'delicate', 'dates', 'credited', 'confrontation', 'computers', 'communicate', 'champion', 'brutality', 'bros', 'beverly', 'betrayal', 'bacon', 'bacall', 'automatically', 'arthouse', 'album', 'agenda', 'affairs', '75', '1986', 'wilderness', 'wellwritten', 'visiting', 'visions', 'uncut', 'subpar', 'squad', 'sooner', 'shouting', 'shortcomings', 'shakespeares', 'shades', 'screens', 'schlock', 'russia', 'replace', 'remained', 'rely', 'reflection', 'refer', 'rats', 'quietly', 'profession', 'pressure', 'prejudice', 'pole', 'phil', 'phenomenon', 'palace', 'owen', 'obligatory', 'nolan', 'muddled', 'mode', 'misguided', 'marvel', 'labor', 'knocked', 'item', 'hopkins', 'grief', 'gambling', 'frankenstein', 'fog', 'femme', 'europa', 'eats', 'ear', 'demise', 'defeated', 'dana', 'creator', 'closeup', 'challenges', 'cattle', 'caricatures', 'cannon', 'bow', 'amitabh', 'alec', 'agency', 'addicted', 'acclaimed', 'youngest', 'wifes', 'unrelated', 'tube', 'translated', 'towns', 'towers', 'thunderbirds', 'tenant', 'suspension', 'sung', 'sopranos', 'skit', 'satirical', 'renaissance', 'refuse', 'previews', 'phillips', 'paxton', 'patricia', 'objects', 'moreover', 'misleading', 'milk', 'mayhem', 'matched', 'marshall', 'knight', 'kathryn', 'jews', 'invites', 'industrial', 'independence', 'harold', 'fluff', 'experimental', 'entitled', 'dressing', 'doo', 'deleted', 'danish', 'damaged', 'corpses', 'cope', 'conviction', 'conveys', 'co', 'clan', 'chuckle', 'challenged', 'bernard', 'befriends', 'beatles', 'authors', 'assault', 'ants', 'altman', 'address', 'adaptations', '1978', '1936', 'zombi', 'yearold', 'understands', 'undead', 'topnotch', 'tierney', 'thread', 'swept', 'surgery', 'subjected', 'stumbles', 'strongest', 'stretched', 'stopping', 'stairs', 'spree', 'spacey', 'slice', 'shootout', 'selection', 'ross', 'rod', 'reign', 'reel', 'recommendation', 'recognizable', 'quinn', 'pro', 'phrase', 'peak', 'palance', 'paintings', 'musician', 'morbid', 'morally', 'loneliness', 'lifted', 'leaders', 'las', 'ladder', 'jordan', 'insists', 'immediate', 'hyde', 'hughes', 'hopelessly', 'hears', 'harmless', 'hank', 'guitar', 'gregory', 'glowing', 'glasses', 'firmly', 'fantasies', 'evidently', 'elite', 'elevator', 'eastern', 'difficulties', 'depends', 'darn', 'cream', 'couch', 'connections', 'colin', 'clueless', 'claustrophobic', 'claus', 'checked', 'calm', 'boston', 'bargain', 'austin', 'assassination', 'adolescent', 'admirable', 'abruptly', '73', '1981', '1979', 'wwe', 'wings', 'vibrant', 'vein', 'uniformly', 'tyler', 'trivia', 'ton', 'terrified', 'tail', 'studies', 'strengths', 'steady', 'standup', 'springer', 'speeches', 'spark', 'soup', 'soso', 'smiles', 'sleeps', 'singers', 'shopping', 'shoddy', 'scarface', 'sabrina', 'riot', 'respective', 'relentless', 'recycled', 'rat', 'rapist', 'programs', 'presenting', 'owners', 'outing', 'option', 'mutant', 'minded', 'mill', 'messy', 'meg', 'mccoy', 'lush', 'lukas', 'locals', 'lifes', 'legends', 'knightley', 'kidman', 'jarring', 'interestingly', 'inspire', 'insanity', 'inhabitants', 'hitlers', 'hers', 'hack', 'gems', 'gal', 'fords', 'forcing', 'filler', 'feeding', 'fashioned', 'farfetched', 'exceptions', 'employed', 'emerges', 'elses', 'edit', 'dolph', 'destroys', 'demand', 'dazzling', 'dandy', 'considerably', 'comparisons', 'coast', 'cliches', 'claiming', 'circus', 'carla', 'buster', 'boris', 'banal', 'backs', 'aspiring', 'artwork', 'ariel', 'approaches', 'amrita', 'aim', 'zizek', 'woo', 'wig', 'wellmade', 'weather', 'wanders', 'vile', 'vance', 'valentine', 'transformed', 'threatens', 'thoughtprovoking', 'sympathize', 'sugar', 'statue', 'sorely', 'sketch', 'shanghai', 'rita', 'rhythm', 'posters', 'politician', 'policeman', 'pg', 'pc', 'outfits', 'nut', 'nicolas', 'newer', 'natives', 'masterfully', 'marlon', 'located', 'kolchak', 'iv', 'ingenious', 'inexplicable', 'iconic', 'hungry', 'height', 'heels', 'hats', 'hartley', 'gina', 'gate', 'galaxy', 'function', 'forgiven', 'fishing', 'firing', 'fifty', 'fiancé', 'dylan', 'disguise', 'differently', 'diehard', 'designer', 'crawford', 'controlled', 'christine', 'cheer', 'charlton', 'centre', 'cancer', 'bridges', 'bowl', 'boasts', 'billed', 'bent', 'bend', 'behold', 'assuming', 'artsy', 'acceptance', '4th', '21st', '1977', 'welldone', 'wang', 'walt', 'votes', 'vital', 'vanessa', 'unlikeable', 'underworld', 'toronto', 'toni', 'tempted', 'tasteless', 'swing', 'stages', 'specially', 'sox', 'sleaze', 'severely', 'sending', 'screwed', 'route', 'reluctant', 'realised', 'readers', 'reader', 'rapidly', 'preachy', 'peck', 'partners', 'orange', 'obtain', 'norm', 'nope', 'nina', 'mirrors', 'mathieu', 'marries', 'macho', 'luis', 'lasts', 'kitty', 'insipid', 'hokey', 'historic', 'hippie', 'helpless', 'helpful', 'heist', 'heading', 'hammy', 'gamera', 'freaks', 'frances', 'fist', 'fastpaced', 'ethnic', 'eternity', 'engrossing', 'election', 'el', 'duvall', 'duration', 'drove', 'curly', 'creek', 'crazed', 'clock', 'chronicles', 'christianity', 'choosing', 'chainsaw', 'cartoonish', 'brendan', 'bondage', 'bitten', 'bike', 'bars', 'attract', 'antwone', 'anton', 'angst', 'ambition', 'alexandre', 'worn', 'windows', 'whites', 'werewolves', 'unexplained', 'triple', 'stare', 'stallone', 'someday', 'sirk', 'silliness', 'siblings', 'shoulder', 'shorter', 'shared', 'screenwriters', 'sand', 'rides', 'reliable', 'refused', 'redeem', 'records', 'preparing', 'predecessor', 'posey', 'pete', 'paramount', 'outdated', 'oldest', 'net', 'nephew', 'mixing', 'millionaire', 'males', 'limit', 'lighter', 'letdown', 'leigh', 'jacksons', 'inspirational', 'incidentally', 'hilarity', 'hangs', 'guards', 'growth', 'gimmick', 'genie', 'fuller', 'frontier', 'forty', 'firm', 'fifth', 'exploring', 'esther', 'dud', 'drivein', 'dismal', 'disguised', 'discussing', 'devastating', 'derivative', 'depending', 'coup', 'confront', 'concepts', 'childs', 'cbs', 'casual', 'campaign', 'bye', 'bully', 'bsg', 'bitch', 'biased', 'basinger', 'barrel', 'babies', 'alley', 'affleck', 'accepts', 'abrupt', '1988', '1976', '1939', 'youthful', 'weaker', 'vulgar', 'vega', 'vain', 'unsuspecting', 'uniform', 'tormented', 'topics', 'tara', 'sharon', 'rope', 'repulsive', 'representation', 'remove', 'regards', 'puerto', 'preston', 'praised', 'pickup', 'partially', 'parallels', 'overblown', 'origins', 'northern', 'nails', 'min', 'mercy', 'malone', 'limitations', 'lift', 'legacy', 'layers', 'label', 'kurosawa', 'kent', 'jess', 'intricate', 'hides', 'gunga', 'grainy', 'goldblum', 'globe', 'glamorous', 'gable', 'freddys', 'framed', 'fontaine', 'fido', 'fade', 'factors', 'excruciatingly', 'eternal', 'eleven', 'dukes', 'dragons', 'coupled', 'continuing', 'continually', 'containing', 'confronted', 'confident', 'completed', 'commenting', 'centered', 'camcorder', 'butcher', 'breed', 'braveheart', 'boxer', 'bounty', 'beware', 'audition', 'applaud', 'anticipation', 'advertised', 'absorbing', '1985', 'yours', 'yeti', 'wisely', 'wax', 'voyage', 'unimaginative', 'tops', 'token', 'tip', 'thompson', 'terminator', 'subtext', 'strings', 'static', 'sf', 'salvation', 'salt', 'ronald', 'resolved', 'reruns', 'rendered', 'reminder', 'remembering', 'refers', 'ratso', 'quaid', 'puppets', 'punches', 'published', 'promptly', 'preferred', 'photographs', 'pacific', 'outright', 'organized', 'ominous', 'oldfashioned', 'netflix', 'mutual', 'mitchum', 'minus', 'minority', 'mermaid', 'magician', 'lifeless', 'lend', 'lauren', 'justified', 'joker', 'jaded', 'insightful', 'inmates', 'ingrid', 'info', 'identical', 'highway', 'hearted', 'hawke', 'handles', 'ham', 'grateful', 'goodlooking', 'giants', 'fools', 'exterior', 'expects', 'europeans', 'error', 'endlessly', 'emerge', 'earn', 'dudley', 'duck', 'dj', 'disgrace', 'detract', 'dashing', 'cypher', 'convicted', 'contempt', 'conrad', 'conan', 'clara', 'christina', 'christie', 'chavez', 'carmen', 'cannibal', 'candidate', 'bravo', 'bmovies', 'bloom', 'blatantly', 'biblical', 'beside', 'bachelor', 'apply', 'amazon', 'alvin', 'aided', 'afterward', 'affects', 'addict', 'accurately', '1945', 'wtf', 'voted', 'vividly', 'vehicles', 'underwater', 'ultimatum', 'timberlake', 'thrilled', 'theories', 'symbolic', 'survives', 'stunningly', 'storys', 'sticking', 'startling', 'stardom', 'sniper', 'slimy', 'serving', 'senior', 'seedy', 'scariest', 'salman', 'rookie', 'restrained', 'repressed', 'rainy', 'quantum', 'pursue', 'possess', 'packs', 'nolte', 'myth', 'melissa', 'meandering', 'macabre', 'lowkey', 'loretta', 'logan', 'lasting', 'keen', 'juliet', 'jill', 'jared', 'internal', 'inaccurate', 'holocaust', 'heavyhanded', 'havoc', 'harrison', 'grounds', 'glaring', 'foxx', 'flowers', 'flashes', 'filthy', 'fills', 'exquisite', 'explores', 'enthusiastic', 'dread', 'downs', 'disgust', 'detectives', 'destined', 'des', 'depths', 'departure', 'demonic', 'define', 'decidedly', 'cries', 'contribution', 'compete', 'colleagues', 'cliffhanger', 'cassavetes', 'buzz', 'bulk', 'brooding', 'boyer', 'backwards', 'aussie', 'attenborough', 'ally', 'adore', 'activity', '22', '1969', 'zane', 'warming', 'wagner', 'vocal', 'verdict', 'venture', 'undeniably', 'unattractive', 'trials', 'sunny', 'suburban', 'spaghetti', 'sht', 'shepherd', 'sharing', 'sgt', 'sensible', 'screw', 'scotts', 'ricky', 'respectable', 'referring', 'racing', 'q', 'planets', 'penny', 'pedestrian', 'payoff', 'newman', 'nerves', 'narrated', 'messing', 'lex', 'lester', 'leap', 'kline', 'judged', 'jewel', 'jedi', 'ira', 'insights', 'incorrect', 'hugely', 'housewife', 'hires', 'goods', 'girlfriends', 'gillian', 'garner', 'gained', 'formed', 'flimsy', 'fifties', 'expertly', 'exit', 'evolution', 'estranged', 'entered', 'disgusted', 'disastrous', 'dillinger', 'deserving', 'damned', 'cyborg', 'crisp', 'courtroom', 'conveniently', 'coat', 'classy', 'cher', 'cheaply', 'cerebral', 'cemetery', 'casino', 'btw', 'breakfast', 'authorities', 'anil', 'allens', 'accounts', 'accepting', '23', '1950', 'yawn', 'wonderland', 'wheres', 'volume', 'underwear', 'ugh', 'truman', 'tremendously', 'tower', 'tendency', 'tarantino', 'suggestion', 'stack', 'spinal', 'spectacle', 'sometime', 'soderbergh', 'severed', 'routines', 'rome', 'rivers', 'reward', 'revolt', 'residents', 'redundant', 'rampage', 'radical', 'quarter', 'pirate', 'perception', 'penelope', 'peaceful', 'passengers', 'owns', 'originals', 'ol', 'nominations', 'neatly', 'mouths', 'monty', 'mobile', 'mitch', 'mannerisms', 'kidnapping', 'karate', 'introducing', 'institution', 'injured', 'inherent', 'imo', 'horny', 'frankie', 'feat', 'fairbanks', 'evelyn', 'establish', 'embrace', 'einstein', 'dropping', 'dramatically', 'disorder', 'dirt', 'difficulty', 'describing', 'deny', 'demonstrated', 'degrees', 'debate', 'crossing', 'critique', 'crashing', 'cracking', 'corporation', 'collective', 'carey', 'canyon', 'buys', 'belt', 'banter', 'authenticity', 'approaching', 'appeals', 'anyones', '1994', '1991', 'zorro', 'youtube', 'yokai', 'worms', 'witchcraft', 'vastly', 'users', 'unsatisfying', 'traffic', 'tossed', 'tolerable', 'supply', 'sucker', 'subtly', 'steele', 'stardust', 'spice', 'soylent', 'sought', 'sophie', 'slugs', 'slide', 'slaves', 'sincerely', 'simpsons', 'shaking', 'selected', 'rooting', 'romeo', 'reviewing', 'proving', 'plotting', 'planes', 'pirates', 'pickford', 'paula', 'paths', 'pale', 'painter', 'owes', 'nemesis', 'mystical', 'mortal', 'morals', 'mins', 'michaels', 'mail', 'lions', 'liners', 'liam', 'jodie', 'janes', 'irene', 'interact', 'intentional', 'insults', 'instincts', 'inclusion', 'incapable', 'improbable', 'implied', 'homer', 'glued', 'frames', 'foolish', 'feminine', 'expose', 'exploits', 'exploit', 'excess', 'evans', 'email', 'ebert', 'dustin', 'drinks', 'dominated', 'demanding', 'definitive', 'deer', 'decline', 'darth', 'cultures', 'cuban', 'corn', 'concentrate', 'collect', 'cleaning', 'clarke', 'charms', 'cape', 'canceled', 'butch', 'bruno', 'bronson', 'austen', 'astounding', 'arranged', 'anyhow', 'akin', 'admired', '95', '85', '1989', '1920s', 'wounds', 'wire', 'wellacted', 'wardrobe', 'virtual', 'unsure', 'triangle', 'trace', 'tokyo', 'tapes', 'taped', 'switched', 'swearing', 'sublime', 'stylized', 'stranded', 'snuff', 'slapped', 'sidewalk', 'shifts', 'session', 'serials', 'sentimentality', 'seductive', 'sarcastic', 'reverse', 'remembers', 'rebellious', 'randolph', 'races', 'precode', 'potter', 'possession', 'posing', 'poker', 'pocket', 'phase', 'pfeiffer', 'peculiar', 'papers', 'odyssey', 'niece', 'neurotic', 'mute', 'motorcycle', 'morons', 'minnelli', 'minister', 'milo', 'miami', 'mesmerizing', 'meantime', 'marc', 'lunch', 'liveaction', 'liu', 'likeable', 'landed', 'kinnear', 'isolation', 'insist', 'inaccuracies', 'homosexuality', 'homicide', 'homes', 'hippies', 'hindi', 'healthy', 'harriet', 'handheld', 'habit', 'goodbye', 'gielgud', 'followup', 'exploding', 'exorcist', 'executives', 'entering', 'enhanced', 'divorced', 'divine', 'disabled', 'denis', 'demonstrate', 'delicious', 'deliberate', 'debt', 'cunningham', 'criticize', 'crippled', 'corbett', 'convinces', 'cons', 'compliment', 'comeback', 'climb', 'circles', 'cindy', 'chopped', 'centuries', 'cents', 'budgets', 'boyle', 'begs', 'bach', 'audrey', 'arrow', 'arguing', 'antonio', 'alot', 'alleged', 'ace', 'accessible', '1000', '\\x85', 'yep', 'xfiles', 'wiped', 'wander', 'update', 'tool', 'threatened', 'thirties', 'targets', 'symbol', 'sydney', 'suspected', 'stroke', 'stereotyped', 'steer', 'stalking', 'spies', 'spencer', 'span', 'skilled', 'sinking', 'shockingly', 'separated', 'seeming', 'romances', 'ritual', 'rewarding', 'reports', 'replacement', 'relentlessly', 'puzzle', 'psychopath', 'predictably', 'porter', 'polly', 'pleasing', 'playboy', 'pains', 'owned', 'outline', 'optimistic', 'ohara', 'offbeat', 'ny', 'nuances', 'nbc', 'muppets', 'moviemaking', 'motive', 'miyazaki', 'missile', 'midst', 'masterson', 'lethal', 'lavish', 'kellys', 'keatons', 'juliette', 'jules', 'judd', 'jealousy', 'jaw', 'investigator', 'indiana', 'hyped', 'hop', 'godawful', 'gangs', 'followers', 'flavia', 'flames', 'fishburne', 'explosive', 'explodes', 'excruciating', 'erika', 'entirety', 'earnest', 'dynamics', 'distract', 'dilemma', 'denouement', 'dame', 'crashes', 'counter', 'contribute', 'consideration', 'comprehend', 'commits', 'combs', 'combines', 'colours', 'claude', 'clash', 'cheek', 'characteristics', 'caron', 'carlos', 'cal', 'busey', 'brainless', 'beowulf', 'basket', 'attending', 'attacking', 'assignment', 'anytime', 'answered', 'aiming', 'africanamerican', '300', '1998', '1940', 'wider', 'whiny', 'wartime', 'warns', 'warden', 'void', 'vintage', 'viewpoint', 'victorian', 'varied', 'vanity', 'vanilla', 'unappealing', 'uh', 'turmoil', 'trains', 'sunrise', 'subway', 'stewarts', 'stance', 'spit', 'spine', 'sources', 'sickening', 'sg1', 'servants', 'serum', 'sergeant', 'sebastian', 'sang', 'sammo', 'sale', 'rowlands', 'ritchie', 'resembling', 'rescued', 'realities', 'readily', 'publicity', 'psyche', 'produces', 'principals', 'poses', 'popping', 'policy', 'poe', 'plodding', 'phoenix', 'phenomenal', 'pathos', 'pans', 'origin', 'ordeal', 'novelty', 'noteworthy', 'misfortune', 'mates', 'manners', 'lurking', 'literal', 'keys', 'jacket', 'iranian', 'intact', 'hybrid', 'huston', 'hateful', 'grandma', 'gooding', 'gloria', 'ghetto', 'furniture', 'forties', 'foil', 'feast', 'fatale', 'expense', 'eventual', 'errol', 'epics', 'enhance', 'encountered', 'en', 'dump', 'detroit', 'depict', 'delightfully', 'deliciously', 'debbie', 'daylewis', 'crown', 'copied', 'conveyed', 'contributed', 'commitment', 'collette', 'cohen', 'clive', 'clerk', 'cassidy', 'cap', 'burke', 'bug', 'bombs', 'bogart', 'blamed', 'benefits', 'balanced', 'awakening', 'assured', 'arc', 'anxious', 'achieves', '21', '1974', '1959', 'whining', 'verbal', 'unsympathetic', 'uma', 'traits', 'tourist', 'therapy', 'targeted', 'swallow', 'sparks', 'sonny', 'shepard', 'shahid', 'shaggy', 'seth', 'sells', 'selfindulgent', 'scripting', 'sanders', 'samantha', 'saint', 'runner', 'roses', 'rosemarys', 'ripping', 'reviewed', 'resulted', 'relating', 'rejects', 'rehash', 'reeve', 'rear', 'rational', 'ranch', 'rambling', 'pumbaa', 'promoted', 'professionals', 'principle', 'pound', 'phantasm', 'penn', 'pause', 'passage', 'pad', 'omar', 'novak', 'noticeable', 'northam', 'newcomer', 'natalie', 'naschy', 'moron', 'miranda', 'miikes', 'mice', 'meteor', 'mens', 'melvyn', 'medieval', 'mason', 'marked', 'marilyn', 'maintains', 'lowe', 'lopez', 'longtime', 'longing', 'laputa', 'kungfu', 'knocks', 'jacques', 'islands', 'instances', 'immortal', 'immigrant', 'idol', 'ho', 'harlow', 'grass', 'goals', 'funding', 'fried', 'fleet', 'farmer', 'exploited', 'experiencing', 'excuses', 'excellently', 'employee', 'embarrassingly', 'economic', 'dumber', 'duel', 'drab', 'document', 'distraction', 'dismiss', 'deputy', 'delighted', 'dealer', 'cutter', 'corey', 'consist', 'coffin', 'clone', 'charlies', 'caricature', 'campus', 'bw', 'brides', 'breathing', 'breast', 'breakdown', 'bosses', 'borders', 'bones', 'bogus', 'bittersweet', 'avid', 'assure', 'asia', 'arriving', 'arguments', 'antonioni', 'ample', 'altered', 'aggressive', 'adrian', '200', '1944', '1943', '19', 'winners', 'wine', 'wilder', 'wendigo', 'vargas', 'unusually', 'unstable', 'uniforms', 'un', 'ultra', 'tvs', 'toby', 'thelma', 'tax', 'sweden', 'suspicion', 'substantial', 'stella', 'steam', 'statements', 'stalker', 'stalked', 'spiderman', 'slip', 'sixth', 'shotgun', 'settled', 'services', 'serbian', 'seasoned', 'scoop', 'sarandon', 'rounded', 'respects', 'relevance', 'rebels', 'questioning', 'queens', 'pushes', 'pros', 'possesses', 'populated', 'pin', 'pilots', 'phillip', 'p', 'overboard', 'offscreen', 'obsessive', 'muslims', 'misty', 'mick', 'lunatic', 'lumet', 'lil', 'lens', 'legitimate', 'laurie', 'kidnap', 'jury', 'judgment', 'jenna', 'jagger', 'jacks', 'iturbi', 'insert', 'informer', 'informed', 'indifferent', 'immense', 'horrified', 'herd', 'hayworth', 'hannah', 'hadley', 'groundbreaking', 'graveyard', 'gilbert', 'gere', 'fundamental', 'fuel', 'frontal', 'fright', 'fragile', 'foundation', 'fleshed', 'extensive', 'exclusively', 'entrance', 'energetic', 'dubious', 'dreamy', 'distracted', 'diary', 'deeds', 'dads', 'controlling', 'consequence', 'coburn', 'cmon', 'chong', 'chiba', 'ches', 'characterizations', 'carnage', 'capacity', 'brat', 'biopic', 'bills', 'bikini', 'begging', 'beforehand', 'beckham', 'babes', 'axe', 'august', 'arrogance', 'arrest', 'arkin', 'applies', 'applied', 'antagonist', 'angie', 'ambiguity', 'addiction', 'acquired', '28', '1982', '1948', 'z', 'vivian', 'visitor', 'unfolding', 'understandably', 'turd', 'tuned', 'traps', 'translate', 'tickets', 'tcm', 'taut', 'tactics', 'sundance', 'stephanie', 'stating', 'snowman', 'snipes', 'smell', 'slashers', 'sheets', 'seduce', 'screened', 'schneider', 'samuel', 'salvage', 'salesman', 'rounds', 'rosario', 'rolls', 'rips', 'resistance', 'regularly', 'realistically', 'realises', 'rampant', 'pursued', 'psychologist', 'prophecy', 'preminger', 'pray', 'popped', 'politicians', 'polish', 'pivotal', 'peggy', 'owl', 'offend', 'obstacles', 'observation', 'mythology', 'moss', 'mormon', 'momentum', 'medicine', 'meal', 'mcqueen', 'maureen', 'lucille', 'longest', 'lola', 'lightning', 'leather', 'laying', 'kubricks', 'krueger', 'korea', 'kirsten', 'juan', 'interrupted', 'hysterically', 'hooper', 'herbert', 'heavens', 'headache', 'guinness', 'guinea', 'gloomy', 'gilliam', 'gaps', 'forgiveness', 'fluid', 'file', 'feinstone', 'fassbinder', 'factual', 'entries', 'ensure', 'dragging', 'doug', 'diverse', 'discussed', 'despise', 'depictions', 'deed', 'cushing', 'county', 'cookie', 'convention', 'controversy', 'consequently', 'coke', 'chill', 'cedric', 'cecil', 'casablanca', 'cab', 'branaghs', 'bonnie', 'bates', 'automatic', 'assembled', 'arty', 'arquette', 'agony', 'adele', 'additionally', 'abandon', '1992', '1953', 'ww2', 'wong', 'whod', 'weekly', 'wayans', 'veterans', 'upside', 'updated', 'unclear', 'unanswered', 'um', 'troma', 'trier', 'travis', 'tomb', 'timmy', 'tide', 'thrust', 'sufficient', 'strict', 'stiles', 'stations', 'stabbed', 'smiths', 'skinny', 'sketches', 'sights', 'shift', 'seymour', 'screwball', 'scoobydoo', 'schedule', 'sane', 'sailor', 'rourke', 'rodriguez', 'robertson', 'rider', 'reserved', 'republic', 'replies', 'reflected', 'quentin', 'qualify', 'qualifies', 'protest', 'plate', 'phones', 'perverted', 'pegg', 'pattern', 'overbearing', 'orchestra', 'occult', 'obscurity', 'novelist', 'nerve', 'mysteriously', 'murky', 'muppet', 'monotonous', 'moms', 'mole', 'linked', 'lastly', 'knights', 'kathy', 'kalifornia', 'janet', 'israeli', 'invention', 'informative', 'hostage', 'handicapped', 'gypsy', 'grabbed', 'goldie', 'gestures', 'gentlemen', 'garland', 'freaky', 'firstrate', 'famed', 'fairytale', 'failures', 'explode', 'expectation', 'establishing', 'escaping', 'enigmatic', 'enchanted', 'egyptian', 'educated', 'drowned', 'dominic', 'distress', 'destination', 'denise', 'demille', 'deliverance', 'defies', 'deemed', 'debra', 'cycle', 'croc', 'convent', 'controls', 'commanding', 'colleague', 'clunky', 'clooney', 'cliched', 'chuckles', 'chaotic', 'celebrate', 'caretaker', 'cancelled', 'blockbusters', 'biting', 'beg', 'beers', 'attended', 'amidst', 'aftermath', 'achievements', 'accidental', '34', '1975', 'worldwide', 'witnessing', 'warehouse', 'villainous', 'vignettes', 'upcoming', 'upbeat', 'uncanny', 'toxic', 'tonys', 'tongueincheek', 'tire', 'talky', 'takashi', 'syndrome', 'sweat', 'suzanne', 'surroundings', 'sunset', 'sunk', 'stream', 'spotlight', 'spider', 'sondra', 'sly', 'shred', 'sheen', 'shannon', 'searched', 'scorsese', 'scored', 'russ', 'roughly', 'robbed', 'rice', 'rewarded', 'retelling', 'remark', 'reiser', 're', 'quintessential', 'preaching', 'postwar', 'pointing', 'playwright', 'participants', 'parks', 'parking', 'paints', 'padding', 'outlandish', 'nightclub', 'narrow', 'murderers', 'moviegoers', 'moores', 'monologue', 'misunderstood', 'maximum', 'madeleine', 'lean', 'landmark', 'kathleen', 'july', 'jose', 'jersey', 'invite', 'inserted', 'indicate', 'ideals', 'hum', 'hostel', 'hoot', 'hinted', 'haunt', 'harrowing', 'hackman', 'gypo', 'gwyneth', 'graduate', 'govinda', 'geisha', 'gathering', 'galactica', 'fraud', 'forgetting', 'flower', 'festivals', 'feeble', 'fanatic', 'envy', 'eli', 'edith', 'edges', 'eagerly', 'dreyfuss', 'diving', 'divided', 'distributed', 'diner', 'daisy', 'dahmer', 'curiously', 'crooks', 'creasy', 'covering', 'courtesy', 'counting', 'corman', 'complications', 'comparable', 'communication', 'committing', 'columbia', 'cigarette', 'characterisation', 'chamberlain', 'celebrated', 'carpenters', 'bubble', 'brett', 'bleed', 'biker', 'bias', 'battlestar', 'bakshis', 'backed', 'assumes', 'artistry', 'artemisia', 'armstrong', 'apple', 'anticipated', 'anthology', 'ajay', 'admits', 'abound', '1967', '1963', '1934', '010', '\\x97', 'wrestler', 'whore', 'wherever', 'wesley', 'wastes', 'warrant', 'warhols', 'waking', 'vomit', 'variation', 'upstairs', 'understatement', 'turtle', 'trauma', 'traditions', 'tones', 'thieves', 'thereby', 'testing', 'tackle', 'supreme', 'summed', 'studied', 'stake', 'spoiling', 'spaceship', 'soprano', 'socially', 'shrek', 'sentences', 'semblance', 'seats', 'scratch', 'satisfaction', 'sarcasm', 'rosenstrasse', 'rivals', 'riff', 'revolving', 'restraint', 'reminding', 'releasing', 'redneck', 'rea', 'python', 'puppy', 'psychedelic', 'products', 'pose', 'portuguese', 'pornography', 'platform', 'periods', 'peril', 'pepper', 'penned', 'participate', 'obrien', 'nuanced', 'neglected', 'motel', 'mol', 'modest', 'meyer', 'martian', 'magazines', 'mabel', 'longoria', 'lionel', 'license', 'lends', 'jude', 'imaginary', 'hometown', 'haines', 'glimpses', 'gigantic', 'gap', 'fuzzy', 'freaking', 'frat', 'franklin', 'flavor', 'finishes', 'fetish', 'experts', 'excellence', 'ernest', 'dumbest', 'distinction', 'devotion', 'desk', 'deciding', 'deanna', 'dangerously', 'coworker', 'confined', 'commendable', 'coma', 'clouds', 'childlike', 'chew', 'cheering', 'cheerful', 'chamber', 'cannes', 'boots', 'blazing', 'beetle', 'battlefield', 'baddies', 'backstory', 'bachchan', 'awry', 'avoiding', 'arab', 'annoy', 'admitted', 'adapt', 'acknowledge', 'zodiac', 'yell', 'wright', 'widowed', 'wheel', 'washed', 'vince', 'verge', 'unleashed', 'unhinged', 'transplant', 'transparent', 'titular', 'tashan', 'sylvia', 'swinging', 'suggesting', 'subsequently', 'subgenre', 'stumble', 'stepmother', 'stadium', 'stab', 'ss', 'spontaneous', 'slower', 'skeptical', 'sitcoms', 'sinks', 'similarity', 'sickness', 'sergio', 'sensibility', 'satanic', 'safely', 'robbers', 'rightly', 'remainder', 'relying', 'realization', 'raunchy', 'raj', 'raging', 'protection', 'predator', 'precise', 'plotline', 'paz', 'pauline', 'palm', 'overwrought', 'outset', 'outrageously', 'organization', 'olivia', 'olds', 'oblivious', 'needing', 'motions', 'meredith', 'masked', 'marvin', 'marcus', 'manipulation', 'magically', 'madman', 'lynchs', 'linear', 'lindy', 'kris', 'joking', 'jigsaw', 'jan', 'interviewed', 'interior', 'intensely', 'insomnia', 'infinitely', 'howling', 'homicidal', 'haha', 'fruit', 'frantic', 'forgets', 'flashing', 'flag', 'ferrell', 'federal', 'fascist', 'fallon', 'englund', 'earliest', 'dynamite', 'drowning', 'displaying', 'dish', 'daytime', 'cooking', 'constraints', 'conscious', 'confession', 'collins', 'circa', 'cheech', 'categories', 'carlitos', 'cain', 'buffy', 'budding', 'brooke', 'boundaries', 'bodyguard', 'boards', 'bert', 'begun', 'bearing', 'beard', 'bc', 'bauer', 'barney', 'bait', 'badness', 'auto', 'atlantic', 'array', 'apt', 'ang', 'ala', 'aesthetic', 'admirer', 'accompanying', 'abortion', 'aaron', '1951', '101', 'yarn', 'woefully', 'wash', 'vcr', 'valid', 'underdeveloped', 'trivial', 'trigger', 'tools', 'tolerate', 'tightly', 'tho', 'tess', 'surf', 'suave', 'starters', 'stabbing', 'snap', 'sins', 'silverman', 'showcases', 'shore', 'shah', 'seuss', 'screenplays', 'sailors', 'ruining', 'robotic', 'reunited', 'resume', 'responds', 'respond', 'recreate', 'recover', 'reagan', 'quaint', 'progressed', 'programming', 'programme', 'pressed', 'practical', 'pixar', 'pigs', 'permanent', 'patty', 'parrot', 'palmas', 'oprah', 'observations', 'nutshell', 'nun', 'noting', 'nightmarish', 'nauseating', 'mustache', 'moviei', 'miraculously', 'manga', 'mama', 'malden', 'madison', 'luthor', 'lip', 'laboratory', 'labeled', 'kornbluth', 'kinski', 'kareena', 'judges', 'jolie', 'joint', 'johns', 'intro', 'incidents', 'incestuous', 'incest', 'inadvertently', 'ignoring', 'hooker', 'hmmm', 'hiphop', 'hepburn', 'hardened', 'halfhour', 'gut', 'gus', 'glance', 'gig', 'ghostly', 'geek', 'gates', 'gandolfini', 'gallery', 'gadgets', 'fritz', 'foremost', 'fodder', 'flows', 'examine', 'electronic', 'edmund', 'eagle', 'dunst', 'dumped', 'drivers', 'dominate', 'diversity', 'district', 'distorted', 'disco', 'diego', 'diaz', 'delirious', 'defending', 'decency', 'crushed', 'courageous', 'coolest', 'contestants', 'compensate', 'click', 'classmates', 'chandler', 'celebrities', 'bust', 'burnt', 'brush', 'breakthrough', 'bonanza', 'bon', 'blaise', 'blackandwhite', 'bats', 'avoids', 'approached', 'antihero', 'ambitions', 'alba', 'affecting', 'admission', 'whipped', 'voodoo', 'varying', 'unnatural', 'uninspiring', 'unfamiliar', 'tricked', 'toned', 'thurman', 'thunder', 'thailand', 'taboo', 'superstar', 'stuffed', 'strung', 'stern', 'spoofs', 'solved', 'smug', 'slim', 'slept', 'sites', 'sherlock', 'sharks', 'sexist', 'senator', 'seduction', 'secure', 'scriptwriter', 'scheming', 'saloon', 'sacrifices', 'runaway', 'romania', 'revival', 'reunite', 'resolve', 'representative', 'repeats', 'reno', 'rendering', 'register', 'reese', 'rebellion', 'ratio', 'radiation', 'proceed', 'prank', 'pizza', 'pia', 'peterson', 'parodies', 'otto', 'openly', 'offense', 'observe', 'notices', 'natasha', 'mutants', 'mustve', 'mira', 'middleclass', 'meadows', 'marine', 'maintaining', 'locke', 'lifelong', 'juice', 'judgement', 'joining', 'jar', 'jackman', 'irritated', 'invested', 'interpretations', 'intend', 'influential', 'identities', 'idealistic', 'hugo', 'hostile', 'holt', 'hmm', 'herrings', 'helmet', 'heap', 'hawn', 'harron', 'hardboiled', 'happenings', 'hallmark', 'gusto', 'guardian', 'grisly', 'grandparents', 'gosh', 'godard', 'goat', 'giovanna', 'forbes', 'floriane', 'flock', 'finishing', 'fiery', 'fiend', 'facility', 'exploitative', 'excels', 'espionage', 'er', 'enchanting', 'egypt', 'echoes', 'doses', 'disregard', 'disappearance', 'digging', 'darkly', 'customers', 'crosby', 'criticisms', 'creations', 'cravens', 'coward', 'cortez', 'convenient', 'consumed', 'conductor', 'collapse', 'closure', 'clinic', 'clay', 'clarity', 'cheers', 'cheadle', 'charges', 'characteristic', 'ceremony', 'caper', 'busby', 'burial', 'burgess', 'bonds', 'bliss', 'blandings', 'berkeley', 'believability', 'beckinsale', 'battling', 'bart', 'banks', 'avenge', 'asset', 'announced', 'angelina', 'almighty', 'allan', 'alarm', 'advised', 'advances', 'abundance', 'absorbed', '20s', '1932', 'yells', 'widower', 'wholesome', 'whimsical', 'watcher', 'walmart', 'voyager', 'verhoevens', 'val', 'upbringing', 'unnerving', 'uneasy', 'uncertain', 'turkish', 'tourists', 'tobe', 'theo', 'tended', 'tango', 'switches', 'sustain', 'strained', 'stabs', 'spells', 'smash', 'slaughtered', 'significantly', 'shoved', 'shout', 'sholay', 'shield', 'shelves', 'sheep', 'shameful', 'sensual', 'sensitivity', 'seattle', 'scarlet', 'sasquatch', 'sanity', 'sack', 'russo', 'rupert', 'ruled', 'rewrite', 'reported', 'replay', 'reasoning', 'pursuing', 'prologue', 'progression', 'principles', 'priests', 'predicted', 'playful', 'pierre', 'pecker', 'pals', 'overtones', 'overshadowed', 'outlaw', 'ongoing', 'october', 'observed', 'notwithstanding', 'norton', 'niven', 'ninjas', 'networks', 'mum', 'mud', 'motivated', 'moonstruck', 'monks', 'mobster', 'mixes', 'mishmash', 'melbourne', 'mechanic', 'loy', 'lords', 'loony', 'lookalike', 'locale', 'liberty', 'legion', 'launch', 'knocking', 'kindly', 'jj', 'intelligently', 'injustice', 'injury', 'implies', 'impending', 'heroines', 'hayes', 'greene', 'glow', 'glossy', 'ghastly', 'gently', 'generate', 'garfield', 'funky', 'functions', 'freeze', 'fortunate', 'flowing', 'fetched', 'fart', 'fades', 'faded', 'eyed', 'existing', 'everett', 'enormously', 'engineer', 'enduring', 'elephants', 'eh', 'economy', 'ealing', 'duchovny', 'drift', 'drastically', 'dom', 'determination', 'demeanor', 'della', 'deepest', 'deathtrap', 'dc', 'dangers', 'dallas', 'crooked', 'criticized', 'cringing', 'cow', 'counterparts', 'correctness', 'conniving', 'confuse', 'concentration', 'communism', 'collaboration', 'cohesive', 'clyde', 'climbs', 'chop', 'choir', 'chloe', 'chip', 'censors', 'captivated', 'cameraman', 'britney', 'brazilian', 'bout', 'borrows', 'boost', 'bloke', 'bless', 'bennett', 'bastard', 'aztec', 'awarded', 'atrocity', 'athletic', 'article', 'apocalypse', 'annoyance', 'allies', 'alliance', 'adultery', 'ads', 'abu', '99', '700', '1958', 'youngsters', 'worrying', 'wolves', 'whove', 'wheelchair', 'visconti', 'villa', 'vet', 'unnecessarily', 'truths', 'troopers', 'trendy', 'travolta', 'traveled', 'traumatic', 'transitions', 'tomei', 'thereof', 'thereafter', 'theodore', 'theatres', 'temporary', 'sweeping', 'surrender', 'surgeon', 'supportive', 'substitute', 'stink', 'stature', 'stares', 'springs', 'sporting', 'spelled', 'slut', 'slowmotion', 'slater', 'sincerity', 'shootouts', 'shiny', 'shinae', 'shaped', 'selfcentered', 'se', 'scarier', 'sandy', 'sales', 'russians', 'roommates', 'romanian', 'rogue', 'reluctantly', 'reincarnation', 'projected', 'pretends', 'presume', 'prejudices', 'poppins', 'photograph', 'peaks', 'paragraph', 'orphan', 'orlando', 'opposition', 'oneill', 'ogre', 'nifty', 'needlessly', 'myrtle', 'monroe', 'monday', 'moe', 'moderately', 'mock', 'mister', 'midget', 'mercifully', 'mentor', 'melancholy', 'meek', 'mcadams', 'martino', 'mandy', 'macdonald', 'luxury', 'lo', 'lindsey', 'lightweight', 'lars', 'joshua', 'je', 'interplay', 'intellectually', 'incidental', 'imprisoned', 'impeccable', 'ignores', 'identified', 'hogan', 'hitchcocks', 'hilton', 'henchmen', 'helena', 'heath', 'hazzard', 'hartleys', 'harbor', 'hallucinations', 'gruff', 'groove', 'grip', 'griffiths', 'grating', 'glenda', 'gino', 'gena', 'fulfilling', 'forsythe', 'forrest', 'fierce', 'fastforward', 'fashions', 'fairness', 'ewoks', 'evokes', 'enthralling', 'engine', 'elsa', 'egg', 'drummer', 'dreaming', 'drawings', 'distinguished', 'distinctive', 'dictator', 'derived', 'denying', 'dedication', 'deadpan', 'dash', 'dafoe', 'cursed', 'cunning', 'crashed', 'cradle', 'cowardly', 'connor', 'confines', 'composition', 'complained', 'colored', 'colman', 'cloak', 'civilians', 'cheesiness', 'cells', 'caution', 'casper', 'carpet', 'caprica', 'capote', 'candle', 'camping', 'butchered', 'brashear', 'boyfriends', 'boobs', 'bloodbath', 'blondell', 'blames', 'billion', 'benjamin', 'belle', 'bashing', 'barbra', 'awareness', 'awaiting', 'aura', 'attic', 'associate', 'apprentice', 'anita', 'animations', 'ambiance', 'altmans', 'alter', 'admiration', '26', '1955', '1946', 'virtue', 'vigilante', 'vets', 'vault', 'vapid', 'uptight', 'unravel', 'uncredited', 'trusted', 'torturing', 'throwaway', 'theirs', 'temptation', 'tedium', 'symbols', 'switching', 'surround', 'submit', 'submarine', 'straighttovideo', 'stoned', 'stirring', 'stepped', 'starship', 'spelling', 'spade', 'sorrow', 'sore', 'slows', 'slew', 'slavery', 'simpler', 'signature', 'sho', 'shawn', 'shameless', 'seriousness', 'sections', 'scenarios', 'rizzo', 'rivalry', 'rico', 'relaxed', 'rehearsal', 'rebecca', 'rapid', 'raid', 'prop', 'premises', 'pranks', 'pond', 'pompous', 'polar', 'perspectives', 'penis', 'pavarotti', 'paranoid', 'operating', 'officially', 'oddball', 'nutty', 'nuns', 'notions', 'monica', 'mines', 'merry', 'maurice', 'massey', 'martians', 'marines', 'manipulated', 'lure', 'liberties', 'lays', 'lance', 'kidnaps', 'kazan', 'johansson', 'irwin', 'interspersed', 'interiors', 'inherited', 'informs', 'influences', 'inclined', 'impressions', 'il', 'hurry', 'hunted', 'hobgoblins', 'herman', 'heather', 'gretchen', 'governments', 'goers', 'garage', 'frozen', 'foreboding', 'fleeing', 'fitzgerald', 'fiasco', 'fiancée', 'fewer', 'favourites', 'farnsworth', 'faint', 'entertains', 'ensue', 'encouraged', 'emmy', 'elliott', 'elected', 'ecstasy', 'echo', 'eastwoods', 'downfall', 'downbeat', 'division', 'developments', 'crypt', 'contributes', 'continuously', 'conquest', 'conclusions', 'cockney', 'clutter', 'clockwork', 'climbing', 'cinematographic', 'choke', 'chef', 'censorship', 'casually', 'captive', 'callahan', 'byron', 'breathe', 'bothers', 'boogie', 'bloodshed', 'blackmail', 'bites', 'billing', 'betrayed', 'beth', 'bernsen', 'bartender', 'barnes', 'bald', 'baddie', 'azumi', 'astronauts', 'associates', 'assistance', 'annoyingly', 'alexandra', 'albums', 'adventurous', 'addressed', 'acclaim', 'abstract', '98', 'zelah', 'wwi', 'willingly', 'weary', 'wb', 'warners', 'volumes', 'vivah', 'victorias', 'vaudeville', 'usage', 'ursula', 'unconventional', 'threads', 'temper', 'tech', 'tasty', 'tasks', 'taker', 'sykes', 'suspended', 'supermarket', 'subdued', 'stubborn', 'sterling', 'steaming', 'stalks', 'spiral', 'sour', 'slips', 'sleepy', 'sleeper', 'sixteen', 'shrill', 'shocks', 'shocker', 'sheridan', 'shelter', 'sensibilities', 'sensational', 'semi', 'seal', 'scratching', 'scarlett', 'sammy', 'saints', 'roads', 'riders', 'ridden', 'revolver', 'retrieve', 'reportedly', 'razor', 'ram', 'rack', 'quirks', 'pub', 'protecting', 'prostitutes', 'prolonged', 'practices', 'potent', 'pornographic', 'policemen', 'plug', 'plagued', 'pita', 'perverse', 'peers', 'paycheck', 'passions', 'owe', 'overwhelmed', 'overused', 'optimism', 'oppressive', 'occupied', 'nuance', 'noam', 'nest', 'nerdy', 'necessity', 'nailed', 'myra', 'muni', 'mindset', 'midler', 'maturity', 'marisa', 'mandatory', 'maiden', 'macmurray', 'ma', 'lurid', 'lubitsch', 'lists', 'listened', 'limp', 'lecture', 'lawyers', 'latino', 'languages', 'lang', 'knox', 'kiddie', 'kenny', 'k', 'justification', 'jurassic', 'joanna', 'itchy', 'inheritance', 'inexperienced', 'inducing', 'inconsistencies', 'imply', 'imitating', 'imitate', 'hustler', 'horn', 'holland', 'highschool', 'hector', 'harlem', 'hans', 'han', 'grease', 'goofs', 'golf', 'gibson', 'gershwin', 'genetic', 'garcia', 'fulfill', 'frenchman', 'freaked', 'framing', 'fleeting', 'flame', 'flamboyant', 'fixed', 'filmography', 'farmers', 'entertainer', 'encourages', 'employees', 'employ', 'embarrass', 'eliminate', 'effortlessly', 'earns', 'dwarf', 'duryea', 'dukakis', 'duh', 'dodgy', 'dive', 'discipline', 'disappoints', 'determine', 'detached', 'deservedly', 'denied', 'denial', 'delia', 'deathstalker', 'dealers', 'darling', 'darkman', 'darius', 'damsel', 'culkin', 'cruella', 'crosses', 'crossed', 'crenna', 'cracks', 'counted', 'corridors', 'convict', 'consciousness', 'condescending', 'condemned', 'comprised', 'compositions', 'combining', 'colony', 'cody', 'cloth', 'clarence', 'christensen', 'chevy', 'chemical', 'cheat', 'cheaper', 'celine', 'caruso', 'buildup', 'btk', 'bs', 'brink', 'borrow', 'booth', 'blessed', 'bleeding', 'blaxploitation', 'bitchy', 'bishop', 'berenger', 'benoit', 'benny', 'barton', 'attributes', 'attendant', 'association', 'applause', 'apartheid', 'anchors', 'amoral', 'amid', 'aircraft', 'adaption', '2009', '1957', 'zu', 'yearning', 'wrath', 'worship', 'wolfman', 'welcomed', 'virgins', 'vienna', 'vibe', 'valerie', 'urgency', 'unrated', 'unborn', 'transport', 'transformers', 'toss', 'tina', 'thorn', 'thinner', 'terrorism', 'tanks', 'swiss', 'succession', 'subtitled', 'stupidest', 'strikingly', 'stray', 'strangest', 'strain', 'stimulating', 'stefan', 'standpoint', 'societies', 'snowy', 'smoothly', 'smarmy', 'sloane', 'shady', 'scattered', 'scandal', 'sarne', 'rudd', 'roller', 'rko', 'retirement', 'reject', 'redgrave', 'recalls', 'ravishing', 'puzzled', 'proverbial', 'protective', 'prostitution', 'prophet', 'profoundly', 'profit', 'profile', 'princes', 'premiered', 'preferably', 'predictability', 'predecessors', 'plants', 'planted', 'perceive', 'pauses', 'pairing', 'ostensibly', 'operate', 'operas', 'neverending', 'nerds', 'neeson', 'nearest', 'naval', 'muscular', 'montages', 'mockery', 'miyazakis', 'missions', 'misplaced', 'melinda', 'mediocrity', 'mastermind', 'marx', 'marred', 'managing', 'mamet', 'lyrical', 'lifts', 'leaps', 'ladys', 'kramer', 'knees', 'keeler', 'kamal', 'jo', 'jed', 'jam', 'irving', 'interminable', 'insects', 'illustrated', 'icy', 'icons', 'hungarian', 'hug', 'hosts', 'hoover', 'hesitate', 'hedy', 'healing', 'hare', 'handy', 'guru', 'guevara', 'grossly', 'grin', 'grendel', 'grady', 'graces', 'gorilla', 'giggle', 'georgia', 'gen', 'gays', 'fuss', 'fur', 'floors', 'fires', 'finely', 'fellini', 'farrah', 'fanning', 'extraordinarily', 'expressing', 'exposes', 'exgirlfriend', 'examined', 'evoke', 'episodic', 'engagement', 'eliminated', 'edison', 'drifter', 'dreamlike', 'dominick', 'disdain', 'directtovideo', 'dim', 'dillon', 'destructive', 'desolate', 'depend', 'daylight', 'daria', 'cynicism', 'crawl', 'cowrote', 'cowritten', 'corbin', 'conveying', 'converted', 'contestant', 'considers', 'confronts', 'conflicted', 'confirmed', 'concentrates', 'collector', 'cocky', 'cocaine', 'cloud', 'circuit', 'chops', 'chocolate', 'chans', 'cena', 'cbc', 'castro', 'carface', 'cannibals', 'brit', 'bolivia', 'bimbo', 'bigfoot', 'bgrade', 'bets', 'belly', 'batwoman', 'autobiography', 'auteur', 'aunts', 'assist', 'ash', 'appalled', 'apologize', 'apollo', 'antichrist', 'anguish', 'alternately', 'alligator', 'allied', 'alienation', 'ali', 'alcoholism', 'adequately', 'actorsactresses', 'abroad', 'abomination', '55', '400', '1966', '1964', '1931', '150', 'zhang', 'yourselves', 'wipe', 'winston', 'wielding', 'weirdo', 'vonnegut', 'virginity', 'violently', 'versatile', 'versa', 'unwilling', 'unlucky', 'universally', 'underused', 'undercover', 'unconscious', 'tremors', 'transforms', 'torment', 'torch', 'tolerance', 'tits', 'throne', 'teddy', 'systems', 'supports', 'supporters', 'superiors', 'subtleties', 'stylistic', 'stripper', 'stretches', 'stoltz', 'spotted', 'spectrum', 'spectacularly', 'soulless', 'smalltown', 'slam', 'shaun', 'shamelessly', 'shakespearean', 'shadowy', 'satisfactory', 'sara', 'sammi', 'saif', 'sacred', 'rusty', 'rugged', 'rousing', 'rodney', 'robbing', 'ripley', 'rhyme', 'representing', 'replacing', 'render', 'regal', 'reeks', 'recipe', 'ranger', 'pursues', 'prototype', 'proportions', 'prolific', 'prices', 'presumed', 'presidential', 'portions', 'polite', 'poet', 'pistol', 'philo', 'pets', 'pertwee', 'perceived', 'pen', 'pam', 'overt', 'oriental', 'opponents', 'olsen', 'offside', 'officials', 'ninety', 'nineties', 'neo', 'natali', 'mpaa', 'mourning', 'morgana', 'monologues', 'mold', 'michel', 'maverick', 'marrying', 'marquis', 'marjorie', 'manufactured', 'mantegna', 'manic', 'malcolm', 'mae', 'mac', 'lt', 'lowbrow', 'lorre', 'loop', 'lombard', 'locate', 'locales', 'll', 'listing', 'lingering', 'lesbians', 'ledger', 'lawn', 'laser', 'lanza', 'lansbury', 'lampoon', 'laden', 'knack', 'kindness', 'kilmer', 'kerr', 'kentucky', 'jovi', 'jackass', 'irs', 'irresponsible', 'intruder', 'intestines', 'innuendo', 'inhabit', 'increasing', 'incompetence', 'illusion', 'hunky', 'hitchhiker', 'historians', 'heavenly', 'hayden', 'harrys', 'happier', 'hale', 'grumpy', 'greta', 'gravity', 'goodman', 'gimmicks', 'gi', 'geniuses', 'gasp', 'garnered', 'gage', 'frenzy', 'freed', 'foxes', 'forum', 'flew', 'firsttime', 'fence', 'feared', 'fantastically', 'existential', 'ernie', 'equals', 'epitome', 'emphasize', 'ella', 'elisha', 'efficient', 'dyke', 'dwight', 'du', 'drums', 'dogma', 'dodge', 'discussions', 'discernible', 'diabolical', 'dern', 'democracy', 'defy', 'deck', 'data', 'curtain', 'crowded', 'crouse', 'criminally', 'crass', 'cowriter', 'cowboys', 'cousins', 'countrys', 'continuous', 'connie', 'confronting', 'concentrated', 'compromise', 'compassionate', 'coleman', 'coaster', 'clubs', 'climate', 'cleveland', 'clad', 'cillian', 'ceiling', 'carson', 'caroline', 'carnival', 'capitalism', 'candidates', 'cambodia', 'bury', 'bursts', 'burden', 'brunette', 'brennan', 'brandon', 'borderline', 'bombing', 'behalf', 'bearable', 'baffled', 'backdrops', 'aweigh', 'assassins', 'architect', 'apartments', 'animators', 'afghanistan', 'administration', 'acknowledged', 'aboard', '500', '250', '18th', 'wrongly', 'worm', 'wizards', 'wisecracking', 'whip', 'waynes', 'waterfall', 'vincenzo', 'vengeful', 'unemployed', 'transferred', 'tomlinson', 'tintin', 'texture', 'tenants', 'tasteful', 'taime', 'tables', 'swords', 'switzerland', 'swat', 'swamp', 'supremacy', 'supplies', 'suggestive', 'sucking', 'stumbling', 'struggled', 'structured', 'stripped', 'steamy', 'staging', 'stable', 'spreading', 'sophistication', 'somethings', 'sober', 'snappy', 'sleepwalkers', 'skywalker', 'sinatras', 'sibling', 'shouts', 'shoe', 'shakes', 'seventh', 'sessions', 'segal', 'sealed', 'screamed', 'sacrificed', 'sabretooth', 'rushes', 'rollercoaster', 'rohmer', 'ripoffs', 'rewind', 'retain', 'request', 'relied', 'regime', 'recreation', 'reckless', 'ranging', 'puzzling', 'puri', 'punished', 'psychiatric', 'proudly', 'pronounced', 'prevented', 'preteen', 'premier', 'prefers', 'preacher', 'praying', 'pour', 'pokes', 'poke', 'plummer', 'pleasures', 'placing', 'picker', 'phyllis', 'philadelphia', 'percent', 'payne', 'palestinian', 'padded', 'overacts', 'outtakes', 'outrage', 'oscarwinning', 'orphanage', 'operatic', 'obscene', 'norwegian', 'norma', 'nell', 'neglect', 'napoleon', 'muted', 'muscle', 'murphys', 'munchies', 'minions', 'mills', 'millennium', 'midway', 'mcdowell', 'marcel', 'manor', 'mannered', 'manipulate', 'loudly', 'lotr', 'liz', 'listener', 'limbs', 'leopold', 'leia', 'largest', 'lange', 'kinky', 'kingsley', 'katherine', 'jolly', 'january', 'janitor', 'izzard', 'iti', 'itd', 'irresistible', 'irrational', 'insignificant', 'inhabited', 'inform', 'illustrate', 'ilk', 'ideology', 'hypnotic', 'horizon', 'hooks', 'honey', 'hockey', 'hines', 'hickock', 'hawaii', 'hanzo', 'hamiltons', 'halt', 'hairy', 'haired', 'grail', 'goldsworthy', 'gladiator', 'gathered', 'frenetic', 'fosters', 'flee', 'flamenco', 'finnish', 'fighters', 'farewell', 'fanatics', 'fabric', 'fable', 'exwife', 'expresses', 'exposing', 'exhausted', 'excesses', 'everybodys', 'establishment', 'endured', 'elviras', 'elmer', 'ebay', 'dreadfully', 'drained', 'downside', 'doris', 'disasters', 'differ', 'defining', 'deborah', 'dane', 'daisies', 'czech', 'customs', 'crowds', 'crook', 'coworkers', 'coverage', 'coppola', 'conduct', 'concludes', 'conceit', 'competently', 'collecting', 'cocktail', 'citys', 'choreographer', 'celebrating', 'capt', 'capsule', 'cafe', 'buttons', 'bucket', 'brits', 'boyish', 'booker', 'bonham', 'blink', 'bickering', 'benson', 'believer', 'bean', 'baxter', 'bathtub', 'bash', 'barker', 'balcony', 'badass', 'atrocities', 'ate', 'astronaut', 'artistically', 'arnie', 'arizona', 'archer', 'approximately', 'approval', 'anonymous', 'amusingly', 'alluring', 'airing', 'agatha', 'adopt', 'adapting', 'accompany', '51', '48', '27', '1942', 'wrenching', 'woke', 'wills', 'willem', 'wildlife', 'wee', 'warped', 'wallach', 'waits', 'voters', 'voiceovers', 'visceral', 'veronica', 'vera', 'vaughn', 'variations', 'vanishing', 'vacuous', 'unsuccessful', 'unnamed', 'unfinished', 'uneducated', 'truthful', 'treating', 'transvestite', 'transported', 'tramp', 'toro', 'thumb', 'thug', 'throats', 'thankful', 'tested', 'tearjerker', 'talentless', 'sweetheart', 'surpassed', 'superlative', 'superfluous', 'summarize', 'stretching', 'stir', 'stalk', 'squeeze', 'spielbergs', 'sparse', 'soles', 'societal', 'skipping', 'skipped', 'sigh', 'showtime', 'shops', 'shatner', 'shack', 'sentiments', 'sentenced', 'sensation', 'seduced', 'seaside', 'schemes', 'romeros', 'roach', 'risks', 'rightfully', 'richly', 'rewatch', 'revive', 'revelations', 'restore', 'requisite', 'relaxing', 'registered', 'regain', 'recurring', 'recruits', 'recovering', 'recognise', 'reanimator', 'rapes', 'ransom', 'ranked', 'psychologically', 'prone', 'poo', 'poking', 'poignancy', 'platoon', 'placement', 'pioneer', 'pinnacle', 'pimlico', 'perfected', 'penalty', 'patton', 'patterns', 'patriotic', 'passive', 'passenger', 'parsifal', 'paired', 'owning', 'overtly', 'overseas', 'outta', 'outs', 'options', 'offerings', 'oblivion', 'norris', 'nora', 'newcombe', 'nana', 'myrna', 'mormons', 'monstrous', 'monastery', 'modernday', 'micheal', 'metropolis', 'meanings', 'marathon', 'malta', 'maintained', 'macbeth', 'lucio', 'lordi', 'loner', 'lieutenant', 'leno', 'layered', 'knives', 'kerry', 'keanu', 'it´s', 'invincible', 'investment', 'interpreted', 'intellect', 'integral', 'instruments', 'inc', 'illiterate', 'hurting', 'hopeful', 'hoods', 'hisher', 'heshe', 'heir', 'heartless', 'hammerhead', 'hallucination', 'grieving', 'graves', 'grams', 'gram', 'geeky', 'gee', 'gaze', 'gardens', 'galore', 'gaining', 'friendships', 'freely', 'fort', 'formidable', 'footsteps', 'foch', 'flea', 'ferry', 'featurelength', 'fawcett', 'familiarity', 'extremes', 'explanations', 'expertise', 'expand', 'exhibit', 'evolved', 'elevate', 'dw', 'dusty', 'dunne', 'dripping', 'downtown', 'distinctly', 'dietrich', 'dial', 'detracts', 'deluise', 'degrading', 'defines', 'declares', 'deception', 'currie', 'culminating', 'creeps', 'convicts', 'consisted', 'connolly', 'compares', 'companions', 'coincidences', 'claw', 'chore', 'chewing', 'charity', 'censored', 'caves', 'capitalize', 'calculated', 'bullies', 'bryan', 'brock', 'breathless', 'bothering', 'booze', 'bombed', 'bogdanovich', 'blending', 'blanks', 'betrays', 'beef', 'bathsheba', 'bathing', 'barbarian', 'balloon', 'backyard', 'awfulness', 'austens', 'astonishingly', 'assortment', 'arthurs', 'aristocrat', 'archie', 'apologies', 'anti', 'announces', 'anchorman', 'affections', 'admirably', 'actionpacked', 'accomplishment', 'abominable', '65', '64', '510', '1949', 'zany', 'zabriskie', 'yea', 'winslet', 'wellmeaning', 'weirdness', 'weaver', 'vulnerability', 'virtues', 'viggo', 'videotape', 'velvet', 'untalented', 'unimpressive', 'unforgivable', 'undertaker', 'underdog', 'tsui', 'trumpet', 'triad', 'trex', 'traumatized', 'topped', 'toe', 'timed', 'til', 'thatll', 'telegraphed', 'taylors', 'tacked', 'swift', 'surrogate', 'surpasses', 'surfers', 'streak', 'straw', 'stowe', 'stills', 'stealth', 'starving', 'stalwart', 'spitting', 'spinning', 'speechless', 'spawned', 'spades', 'sorvino', 'sophomoric', 'somber', 'smuggling', 'smallest', 'slug', 'sleuth', 'skimpy', 'singin', 'simons', 'shtick', 'sheeta', 'seinfeld', 'searches', 'scum', 'sciencefiction', 'scenic', 'scarecrows', 'sans', 'sandlers', 'saddest', 'rigid', 'reversed', 'reverend', 'retire', 'restless', 'resorting', 'renowned', 'rejection', 'raping', 'rao', 'raiders', 'qualified', 'purse', 'promoting', 'professionally', 'primal', 'ppv', 'pov', 'pouring', 'postmodern', 'postman', 'posh', 'portman', 'piper', 'pauls', 'patch', 'participation', 'palette', 'outlook', 'outdoor', 'outbreak', 'ounce', 'ossessione', 'organs', 'orchestral', 'om', 'olympia', 'ohio', 'november', 'nielsen', 'neutral', 'narcissistic', 'mutated', 'motif', 'mocking', 'mobsters', 'misfits', 'misfire', 'meyers', 'merrill', 'memoirs', 'measured', 'mcintire', 'maya', 'masturbation', 'mash', 'marvellous', 'marriages', 'marlene', 'marijuana', 'maniacal', 'management', 'maguire', 'magnum', 'magnificently', 'madly', 'lovingly', 'locks', 'lizard', 'links', 'lineup', 'liar', 'lent', 'lds', 'lara', 'lap', 'lambs', 'lambert', 'krishna', 'keitel', 'jerky', 'jabba', 'ivan', 'itbut', 'italians', 'isabelle', 'invariably', 'insulted', 'insecure', 'insanely', 'inherently', 'infidelity', 'infectious', 'indulge', 'incorporate', 'implication', 'imdbs', 'illustrates', 'idiocy', 'ichi', 'iceberg', 'hunk', 'housing', 'honour', 'honorable', 'honeymoon', 'holidays', 'hispanic', 'heroin', 'heiress', 'hating', 'hardships', 'hagen', 'grips', 'grandpa', 'goodnatured', 'gladly', 'gilligans', 'generals', 'gardner', 'gannon', 'gackt', 'frog', 'folklore', 'fictitious', 'faye', 'expanded', 'existent', 'excrement', 'exclusive', 'ensuing', 'emptiness', 'empathize', 'emil', 'elementary', 'elegance', 'eleanor', 'elder', 'edits', 'editors', 'duties', 'drum', 'drugged', 'dreamed', 'draft', 'documents', 'diver', 'distributors', 'distasteful', 'disgruntled', 'disconnected', 'dime', 'dev', 'desi', 'dental', 'dench', 'decoration', 'debacle', 'dani', 'cristina', 'council', 'corky', 'consisting', 'connects', 'complexities', 'complains', 'comicbook', 'comet', 'coincidentally', 'client', 'classified', 'cheung', 'chat', 'chapters', 'catastrophe', 'carlito', 'capshaw', 'camps', 'cages', 'bythenumbers', 'byrne', 'browns', 'brent', 'branch', 'bloodthirsty', 'bens', 'behaving', 'basil', 'baron', 'banana', 'astonished', 'armor', 'aristocratic', 'arises', 'architecture', 'anxiety', 'answering', 'annoys', 'anchor', 'amuse', 'amok', 'amiable', 'alienate', 'aims', 'aiello', 'addresses', 'actuality', '43', '1954', '1952', '1935', 'zealand', 'yoda', 'yadda', 'wyoming', 'wu', 'writings', 'wolverine', 'witless', 'wheels', 'welch', 'weaves', 'voting']\n"
     ]
    }
   ],
   "source": [
    "print(vectorize_layer.get_vocabulary())"
   ]
  },
  {
   "cell_type": "markdown",
   "id": "practical-cycle",
   "metadata": {},
   "source": [
    "TextVectorization 설명은 https://dodonam.tistory.com/188 를 참조함."
   ]
  },
  {
   "cell_type": "markdown",
   "id": "metric-nepal",
   "metadata": {},
   "source": [
    "**base model**"
   ]
  },
  {
   "cell_type": "code",
   "execution_count": 17,
   "id": "controlled-advertising",
   "metadata": {},
   "outputs": [],
   "source": [
    "embedding_dim=16\n",
    "\n",
    "model = Sequential([\n",
    "  vectorize_layer,\n",
    "  Embedding(vocab_size, embedding_dim, name=\"embedding\"),\n",
    "  GlobalAveragePooling1D(),\n",
    "  Dense(16, activation='relu'),\n",
    "  Dense(1)\n",
    "])"
   ]
  },
  {
   "cell_type": "code",
   "execution_count": 19,
   "id": "conditional-vermont",
   "metadata": {},
   "outputs": [],
   "source": [
    "model.compile(optimizer='adam',\n",
    "              loss=tf.keras.losses.BinaryCrossentropy(from_logits=True),\n",
    "              metrics=['accuracy'])"
   ]
  },
  {
   "cell_type": "code",
   "execution_count": 20,
   "id": "settled-batch",
   "metadata": {},
   "outputs": [
    {
     "name": "stdout",
     "output_type": "stream",
     "text": [
      "Epoch 1/15\n",
      "20/20 [==============================] - 33s 2s/step - loss: 0.6926 - accuracy: 0.4979 - val_loss: 0.6902 - val_accuracy: 0.4886\n",
      "Epoch 2/15\n",
      "20/20 [==============================] - 10s 370ms/step - loss: 0.6891 - accuracy: 0.4962 - val_loss: 0.6848 - val_accuracy: 0.4886\n",
      "Epoch 3/15\n",
      "20/20 [==============================] - 10s 358ms/step - loss: 0.6823 - accuracy: 0.5009 - val_loss: 0.6747 - val_accuracy: 0.4886\n",
      "Epoch 4/15\n",
      "20/20 [==============================] - 11s 403ms/step - loss: 0.6709 - accuracy: 0.4957 - val_loss: 0.6613 - val_accuracy: 0.4886\n",
      "Epoch 5/15\n",
      "20/20 [==============================] - 11s 405ms/step - loss: 0.6553 - accuracy: 0.4968 - val_loss: 0.6433 - val_accuracy: 0.4900\n",
      "Epoch 6/15\n",
      "20/20 [==============================] - 11s 406ms/step - loss: 0.6349 - accuracy: 0.5164 - val_loss: 0.6201 - val_accuracy: 0.5574\n",
      "Epoch 7/15\n",
      "20/20 [==============================] - 11s 405ms/step - loss: 0.6084 - accuracy: 0.5941 - val_loss: 0.5939 - val_accuracy: 0.6306\n",
      "Epoch 8/15\n",
      "20/20 [==============================] - 11s 407ms/step - loss: 0.5771 - accuracy: 0.6748 - val_loss: 0.5658 - val_accuracy: 0.6796\n",
      "Epoch 9/15\n",
      "20/20 [==============================] - 11s 408ms/step - loss: 0.5449 - accuracy: 0.7278 - val_loss: 0.5379 - val_accuracy: 0.7204\n",
      "Epoch 10/15\n",
      "20/20 [==============================] - 11s 407ms/step - loss: 0.5112 - accuracy: 0.7676 - val_loss: 0.5119 - val_accuracy: 0.7420\n",
      "Epoch 11/15\n",
      "20/20 [==============================] - 11s 402ms/step - loss: 0.4814 - accuracy: 0.7887 - val_loss: 0.4891 - val_accuracy: 0.7508\n",
      "Epoch 12/15\n",
      "20/20 [==============================] - 11s 404ms/step - loss: 0.4529 - accuracy: 0.8055 - val_loss: 0.4679 - val_accuracy: 0.7700\n",
      "Epoch 13/15\n",
      "20/20 [==============================] - 11s 412ms/step - loss: 0.4268 - accuracy: 0.8183 - val_loss: 0.4505 - val_accuracy: 0.7778\n",
      "Epoch 14/15\n",
      "20/20 [==============================] - 11s 408ms/step - loss: 0.4033 - accuracy: 0.8305 - val_loss: 0.4359 - val_accuracy: 0.7848\n",
      "Epoch 15/15\n",
      "20/20 [==============================] - 11s 406ms/step - loss: 0.3850 - accuracy: 0.8396 - val_loss: 0.4237 - val_accuracy: 0.7916\n"
     ]
    },
    {
     "data": {
      "text/plain": [
       "<tensorflow.python.keras.callbacks.History at 0x1cd864e6dc0>"
      ]
     },
     "execution_count": 20,
     "metadata": {},
     "output_type": "execute_result"
    }
   ],
   "source": [
    "model.fit(\n",
    "    train_ds,\n",
    "    validation_data=val_ds,\n",
    "    epochs=15,\n",
    "    callbacks=[tensorboard_callback])"
   ]
  },
  {
   "cell_type": "code",
   "execution_count": 21,
   "id": "cardiac-techno",
   "metadata": {},
   "outputs": [
    {
     "name": "stdout",
     "output_type": "stream",
     "text": [
      "Model: \"sequential\"\n",
      "_________________________________________________________________\n",
      "Layer (type)                 Output Shape              Param #   \n",
      "=================================================================\n",
      "text_vectorization (TextVect (None, 100)               0         \n",
      "_________________________________________________________________\n",
      "embedding (Embedding)        (None, 100, 16)           160000    \n",
      "_________________________________________________________________\n",
      "global_average_pooling1d (Gl (None, 16)                0         \n",
      "_________________________________________________________________\n",
      "dense (Dense)                (None, 16)                272       \n",
      "_________________________________________________________________\n",
      "dense_1 (Dense)              (None, 1)                 17        \n",
      "=================================================================\n",
      "Total params: 160,289\n",
      "Trainable params: 160,289\n",
      "Non-trainable params: 0\n",
      "_________________________________________________________________\n"
     ]
    }
   ],
   "source": [
    "model.summary()"
   ]
  },
  {
   "cell_type": "markdown",
   "id": "acoustic-husband",
   "metadata": {},
   "source": [
    "**base model의 성능을 높여보기**\n",
    "\n",
    "+layer추가, dropout추가, 30epoch"
   ]
  },
  {
   "cell_type": "code",
   "execution_count": 49,
   "id": "adequate-hollywood",
   "metadata": {},
   "outputs": [],
   "source": [
    "embedding_dim=32\n",
    "\n",
    "model = keras.models.Sequential([\n",
    "    vectorize_layer,\n",
    "    Embedding(vocab_size, embedding_dim, name=\"embedding\"),\n",
    "    GlobalAveragePooling1D(),\n",
    "    keras.layers.Dense(32, activation='relu'),\n",
    "    keras.layers.Dropout(0.5),\n",
    "    keras.layers.Dense(16, activation='relu'),\n",
    "    keras.layers.Dropout(0.5),\n",
    "    keras.layers.Dense(1)\n",
    "])"
   ]
  },
  {
   "cell_type": "code",
   "execution_count": 50,
   "id": "continuing-breach",
   "metadata": {},
   "outputs": [],
   "source": [
    "model.compile(optimizer='adam',\n",
    "              loss=tf.keras.losses.BinaryCrossentropy(from_logits=True),\n",
    "              metrics=['accuracy'])"
   ]
  },
  {
   "cell_type": "code",
   "execution_count": 51,
   "id": "local-premium",
   "metadata": {},
   "outputs": [
    {
     "name": "stdout",
     "output_type": "stream",
     "text": [
      "Epoch 1/30\n",
      "20/20 [==============================] - 13s 437ms/step - loss: 0.6928 - accuracy: 0.4983 - val_loss: 0.6895 - val_accuracy: 0.4886\n",
      "Epoch 2/30\n",
      "20/20 [==============================] - 12s 433ms/step - loss: 0.6877 - accuracy: 0.5026 - val_loss: 0.6772 - val_accuracy: 0.4886\n",
      "Epoch 3/30\n",
      "20/20 [==============================] - 12s 434ms/step - loss: 0.6736 - accuracy: 0.4917 - val_loss: 0.6508 - val_accuracy: 0.4886\n",
      "Epoch 4/30\n",
      "20/20 [==============================] - 12s 437ms/step - loss: 0.6427 - accuracy: 0.5081 - val_loss: 0.5997 - val_accuracy: 0.4886\n",
      "Epoch 5/30\n",
      "20/20 [==============================] - 12s 442ms/step - loss: 0.5868 - accuracy: 0.5682 - val_loss: 0.5286 - val_accuracy: 0.7080\n",
      "Epoch 6/30\n",
      "20/20 [==============================] - 12s 436ms/step - loss: 0.5182 - accuracy: 0.6830 - val_loss: 0.4659 - val_accuracy: 0.7638\n",
      "Epoch 7/30\n",
      "20/20 [==============================] - 12s 433ms/step - loss: 0.4560 - accuracy: 0.7483 - val_loss: 0.4223 - val_accuracy: 0.8038\n",
      "Epoch 8/30\n",
      "20/20 [==============================] - 12s 433ms/step - loss: 0.4030 - accuracy: 0.7956 - val_loss: 0.3960 - val_accuracy: 0.8208\n",
      "Epoch 9/30\n",
      "20/20 [==============================] - 12s 434ms/step - loss: 0.3604 - accuracy: 0.8348 - val_loss: 0.3855 - val_accuracy: 0.8294\n",
      "Epoch 10/30\n",
      "20/20 [==============================] - 12s 434ms/step - loss: 0.3308 - accuracy: 0.8500 - val_loss: 0.3831 - val_accuracy: 0.8276\n",
      "Epoch 11/30\n",
      "20/20 [==============================] - 12s 442ms/step - loss: 0.3067 - accuracy: 0.8645 - val_loss: 0.3842 - val_accuracy: 0.8348\n",
      "Epoch 12/30\n",
      "20/20 [==============================] - 12s 433ms/step - loss: 0.2802 - accuracy: 0.8775 - val_loss: 0.3890 - val_accuracy: 0.8312\n",
      "Epoch 13/30\n",
      "20/20 [==============================] - 12s 431ms/step - loss: 0.2558 - accuracy: 0.8932 - val_loss: 0.4043 - val_accuracy: 0.8260\n",
      "Epoch 14/30\n",
      "20/20 [==============================] - 12s 436ms/step - loss: 0.2410 - accuracy: 0.8939 - val_loss: 0.4163 - val_accuracy: 0.8242\n",
      "Epoch 15/30\n",
      "20/20 [==============================] - 12s 436ms/step - loss: 0.2279 - accuracy: 0.9043 - val_loss: 0.4329 - val_accuracy: 0.8218\n",
      "Epoch 16/30\n",
      "20/20 [==============================] - 12s 431ms/step - loss: 0.2041 - accuracy: 0.9177 - val_loss: 0.4538 - val_accuracy: 0.8182\n",
      "Epoch 17/30\n",
      "20/20 [==============================] - 12s 433ms/step - loss: 0.2061 - accuracy: 0.9112 - val_loss: 0.4686 - val_accuracy: 0.8196\n",
      "Epoch 18/30\n",
      "20/20 [==============================] - 12s 438ms/step - loss: 0.1865 - accuracy: 0.9192 - val_loss: 0.4836 - val_accuracy: 0.8160\n",
      "Epoch 19/30\n",
      "20/20 [==============================] - 12s 437ms/step - loss: 0.1784 - accuracy: 0.9231 - val_loss: 0.4866 - val_accuracy: 0.8174\n",
      "Epoch 20/30\n",
      "20/20 [==============================] - 12s 431ms/step - loss: 0.1717 - accuracy: 0.9310 - val_loss: 0.5055 - val_accuracy: 0.8156\n",
      "Epoch 21/30\n",
      "20/20 [==============================] - 12s 436ms/step - loss: 0.1556 - accuracy: 0.9382 - val_loss: 0.5219 - val_accuracy: 0.8158\n",
      "Epoch 22/30\n",
      "20/20 [==============================] - 12s 439ms/step - loss: 0.1487 - accuracy: 0.9399 - val_loss: 0.5485 - val_accuracy: 0.8092\n",
      "Epoch 23/30\n",
      "20/20 [==============================] - 12s 433ms/step - loss: 0.1369 - accuracy: 0.9417 - val_loss: 0.5751 - val_accuracy: 0.8078\n",
      "Epoch 24/30\n",
      "20/20 [==============================] - 12s 432ms/step - loss: 0.1313 - accuracy: 0.9447 - val_loss: 0.6012 - val_accuracy: 0.8044\n",
      "Epoch 25/30\n",
      "20/20 [==============================] - 12s 438ms/step - loss: 0.1271 - accuracy: 0.9445 - val_loss: 0.6074 - val_accuracy: 0.8048\n",
      "Epoch 26/30\n",
      "20/20 [==============================] - 12s 437ms/step - loss: 0.1174 - accuracy: 0.9484 - val_loss: 0.6341 - val_accuracy: 0.8058\n",
      "Epoch 27/30\n",
      "20/20 [==============================] - 12s 438ms/step - loss: 0.1156 - accuracy: 0.9514 - val_loss: 0.6517 - val_accuracy: 0.8032\n",
      "Epoch 28/30\n",
      "20/20 [==============================] - 12s 440ms/step - loss: 0.1081 - accuracy: 0.9512 - val_loss: 0.6691 - val_accuracy: 0.8020\n",
      "Epoch 29/30\n",
      "20/20 [==============================] - 12s 435ms/step - loss: 0.1028 - accuracy: 0.9515 - val_loss: 0.7007 - val_accuracy: 0.8014\n",
      "Epoch 30/30\n",
      "20/20 [==============================] - 12s 431ms/step - loss: 0.1022 - accuracy: 0.9525 - val_loss: 0.7347 - val_accuracy: 0.7988\n"
     ]
    },
    {
     "data": {
      "text/plain": [
       "<tensorflow.python.keras.callbacks.History at 0x1cd88050fa0>"
      ]
     },
     "execution_count": 51,
     "metadata": {},
     "output_type": "execute_result"
    }
   ],
   "source": [
    "model.fit(\n",
    "    train_ds,\n",
    "    validation_data=val_ds,\n",
    "    epochs=30)"
   ]
  },
  {
   "cell_type": "markdown",
   "id": "uniform-lender",
   "metadata": {},
   "source": [
    "# **<font color=red>실패</font>**"
   ]
  },
  {
   "cell_type": "markdown",
   "id": "distributed-census",
   "metadata": {},
   "source": [
    "+dropout"
   ]
  },
  {
   "cell_type": "code",
   "execution_count": 52,
   "id": "little-supervision",
   "metadata": {},
   "outputs": [],
   "source": [
    "embedding_dim=16\n",
    "\n",
    "model = keras.models.Sequential([\n",
    "    vectorize_layer,\n",
    "    Embedding(vocab_size, embedding_dim, name=\"embedding\"),\n",
    "    GlobalAveragePooling1D(),\n",
    "    keras.layers.Dense(16, activation='relu'),\n",
    "    keras.layers.Dropout(0.5),\n",
    "    keras.layers.Dense(1)\n",
    "])"
   ]
  },
  {
   "cell_type": "code",
   "execution_count": 53,
   "id": "related-tract",
   "metadata": {},
   "outputs": [],
   "source": [
    "model.compile(optimizer='adam',\n",
    "              loss=tf.keras.losses.BinaryCrossentropy(from_logits=True),\n",
    "              metrics=['accuracy'])"
   ]
  },
  {
   "cell_type": "code",
   "execution_count": 55,
   "id": "certain-soldier",
   "metadata": {},
   "outputs": [
    {
     "name": "stdout",
     "output_type": "stream",
     "text": [
      "Epoch 1/15\n",
      "20/20 [==============================] - 12s 436ms/step - loss: 0.4000 - accuracy: 0.8127 - val_loss: 0.4225 - val_accuracy: 0.7832\n",
      "Epoch 2/15\n",
      "20/20 [==============================] - 12s 438ms/step - loss: 0.3864 - accuracy: 0.8207 - val_loss: 0.4140 - val_accuracy: 0.7866\n",
      "Epoch 3/15\n",
      "20/20 [==============================] - 12s 436ms/step - loss: 0.3732 - accuracy: 0.8296 - val_loss: 0.4063 - val_accuracy: 0.7940\n",
      "Epoch 4/15\n",
      "20/20 [==============================] - 12s 439ms/step - loss: 0.3602 - accuracy: 0.8360 - val_loss: 0.3985 - val_accuracy: 0.8024\n",
      "Epoch 5/15\n",
      "20/20 [==============================] - 12s 440ms/step - loss: 0.3475 - accuracy: 0.8424 - val_loss: 0.3946 - val_accuracy: 0.8030\n",
      "Epoch 6/15\n",
      "20/20 [==============================] - 12s 437ms/step - loss: 0.3378 - accuracy: 0.8482 - val_loss: 0.3898 - val_accuracy: 0.8098\n",
      "Epoch 7/15\n",
      "20/20 [==============================] - 12s 437ms/step - loss: 0.3263 - accuracy: 0.8546 - val_loss: 0.3857 - val_accuracy: 0.8150\n",
      "Epoch 8/15\n",
      "20/20 [==============================] - 12s 437ms/step - loss: 0.3170 - accuracy: 0.8568 - val_loss: 0.3861 - val_accuracy: 0.8102\n",
      "Epoch 9/15\n",
      "20/20 [==============================] - 12s 438ms/step - loss: 0.3098 - accuracy: 0.8619 - val_loss: 0.3828 - val_accuracy: 0.8144\n",
      "Epoch 10/15\n",
      "20/20 [==============================] - 12s 437ms/step - loss: 0.3008 - accuracy: 0.8650 - val_loss: 0.3802 - val_accuracy: 0.8192\n",
      "Epoch 11/15\n",
      "20/20 [==============================] - 12s 440ms/step - loss: 0.2928 - accuracy: 0.8706 - val_loss: 0.3837 - val_accuracy: 0.8116\n",
      "Epoch 12/15\n",
      "20/20 [==============================] - 12s 433ms/step - loss: 0.2875 - accuracy: 0.8729 - val_loss: 0.3827 - val_accuracy: 0.8166\n",
      "Epoch 13/15\n",
      "20/20 [==============================] - 12s 440ms/step - loss: 0.2783 - accuracy: 0.8773 - val_loss: 0.3804 - val_accuracy: 0.8208\n",
      "Epoch 14/15\n",
      "20/20 [==============================] - 12s 437ms/step - loss: 0.2696 - accuracy: 0.8814 - val_loss: 0.3820 - val_accuracy: 0.8204\n",
      "Epoch 15/15\n",
      "20/20 [==============================] - 12s 438ms/step - loss: 0.2669 - accuracy: 0.8820 - val_loss: 0.3820 - val_accuracy: 0.8202\n"
     ]
    },
    {
     "data": {
      "text/plain": [
       "<tensorflow.python.keras.callbacks.History at 0x1cd8805ff40>"
      ]
     },
     "execution_count": 55,
     "metadata": {},
     "output_type": "execute_result"
    }
   ],
   "source": [
    "model.fit(\n",
    "    train_ds,\n",
    "    validation_data=val_ds,\n",
    "    epochs=15)"
   ]
  },
  {
   "cell_type": "markdown",
   "id": "circular-proceeding",
   "metadata": {},
   "source": [
    "# **<font color=blue>성공</font>**"
   ]
  }
 ],
 "metadata": {
  "kernelspec": {
   "display_name": "Python 3",
   "language": "python",
   "name": "python3"
  },
  "language_info": {
   "codemirror_mode": {
    "name": "ipython",
    "version": 3
   },
   "file_extension": ".py",
   "mimetype": "text/x-python",
   "name": "python",
   "nbconvert_exporter": "python",
   "pygments_lexer": "ipython3",
   "version": "3.8.8"
  }
 },
 "nbformat": 4,
 "nbformat_minor": 5
}
